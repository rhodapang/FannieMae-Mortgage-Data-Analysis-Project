{
 "cells": [
  {
   "cell_type": "code",
   "execution_count": 1,
   "metadata": {},
   "outputs": [],
   "source": [
    "import pandas as pd\n",
    "from pandas import Series, DataFrame\n",
    "import numpy as np\n",
    "import matplotlib.pyplot as plt\n",
    "plt.rc('figure', figsize = (10,6))\n",
    "np.set_printoptions(precision = 4, suppress = True)"
   ]
  },
  {
   "cell_type": "code",
   "execution_count": 3,
   "metadata": {},
   "outputs": [],
   "source": [
    "# Import two datasets\n",
    "colnames = [\"LOAN_ID\", \"ORIG_CHN\", \"Seller.Name\", \"ORIG_RT\", \"ORIG_AMT\", \"ORIG_TRM\", \"ORIG_DTE\",\"FRST_DTE\", \"OLTV\", \n",
    "            \"OCLTV\", \"NUM_BO\", \"DTI\", \"CSCORE_B\", \"FTHB_FLG\", \"PURPOSE\", \"PROP_TYP\",\"NUM_UNIT\", \"OCC_STAT\", \n",
    "            \"STATE\", \"ZIP_3\", \"MI_PCT\", \"Product.Type\", \"CSCORE_C\", \"MI_TYPE\", \"RELOCATION_FLG\"]\n",
    "Data_A = pd.read_table('D:/1-Intern/Project_1/2018Q1/Acquisition_2018Q1.txt', \n",
    "                       sep = '|', header = None, names = colnames)\n",
    "colnames_P = [\"LOAN_ID\", \"Monthly.Rpt.Prd\", \"Servicer.Name\", \"LAST_RT\", \"LAST_UPB\", \"Loan.Age\", \"Months.To.Legal.Mat\", \n",
    "              \"Adj.Month.To.Mat\", \"Maturity.Date\", \"MSA\", \"Delq.Status\", \"MOD_FLAG\", \"Zero.Bal.Code\", \n",
    "              \"ZB_DTE\", \"LPI_DTE\", \"FCC_DTE\",\"DISP_DT\", \"FCC_COST\", \"PP_COST\", \"AR_COST\", \"IE_COST\", \"TAX_COST\", \"NS_PROCS\",\n",
    "              \"CE_PROCS\", \"RMW_PROCS\", \"O_PROCS\", \"NON_INT_UPB\", \"PRIN_FORG_UPB_FHFA\", \"REPCH_FLAG\", \"PRIN_FORG_UPB_OTH\", \"TRANSFER_FLG\"]\n",
    "Data_P = pd.read_table('D:/1-Intern/Project_1/2018Q1/Performance_2018Q1.txt', \n",
    "                       sep = '|', header = None, names = colnames_P,low_memory=False)"
   ]
  },
  {
   "cell_type": "code",
   "execution_count": 4,
   "metadata": {},
   "outputs": [],
   "source": [
    "df = pd.merge(Data_A.loc[:,[\"LOAN_ID\", \"ORIG_CHN\", \"Seller.Name\", \"ORIG_RT\", \"ORIG_AMT\", \"ORIG_TRM\",\"FRST_DTE\", \"OLTV\", \n",
    "             \"NUM_BO\", \"DTI\", \"CSCORE_B\", \"FTHB_FLG\", \"PURPOSE\", \"PROP_TYP\",\"NUM_UNIT\", \"OCC_STAT\", \"STATE\", \"ZIP_3\", \"MI_PCT\", \"Product.Type\", \"CSCORE_C\", \"MI_TYPE\", \"RELOCATION_FLG\"]],\n",
    "              Data_P.loc[:,[\"LOAN_ID\", \"Monthly.Rpt.Prd\", \"Servicer.Name\", \"LAST_RT\", \"LAST_UPB\", \"Loan.Age\", \"Months.To.Legal.Mat\", \"Adj.Month.To.Mat\", \"Maturity.Date\", \"MSA\", \n",
    "                            \"Delq.Status\", \"MOD_FLAG\", \"Zero.Bal.Code\", \"ZB_DTE\", \"LPI_DTE\", \"FCC_DTE\"]] , on = 'LOAN_ID')"
   ]
  },
  {
   "cell_type": "code",
   "execution_count": null,
   "metadata": {},
   "outputs": [],
   "source": [
    "# Convert string into datetime\n",
    "from datetime import datetime\n",
    "df['Monthly.Rpt.Prd'] = [datetime.strptime(x, '%m/%d/%Y') for x in df.loc[:,'Monthly.Rpt.Prd']]"
   ]
  },
  {
   "cell_type": "code",
   "execution_count": 52,
   "metadata": {},
   "outputs": [],
   "source": [
    "# Check each column's missing value\n",
    "Number_NA = pd.DataFrame(df.isnull().sum()).unstack()"
   ]
  },
  {
   "cell_type": "code",
   "execution_count": 56,
   "metadata": {},
   "outputs": [
    {
     "data": {
      "text/plain": [
       "0  LOAN_ID                      0\n",
       "   ORIG_CHN                     0\n",
       "   Seller.Name                  0\n",
       "   ORIG_RT                      0\n",
       "   ORIG_AMT                     0\n",
       "   ORIG_TRM                     0\n",
       "   FRST_DTE                     0\n",
       "   OLTV                         0\n",
       "   NUM_BO                       0\n",
       "   DTI                       2369\n",
       "   CSCORE_B                  7301\n",
       "   FTHB_FLG                     0\n",
       "   PURPOSE                      0\n",
       "   PROP_TYP                     0\n",
       "   NUM_UNIT                     0\n",
       "   OCC_STAT                     0\n",
       "   STATE                        0\n",
       "   ZIP_3                        0\n",
       "   MI_PCT                 6809722\n",
       "   Product.Type                 0\n",
       "   CSCORE_C               5153362\n",
       "   MI_TYPE                6809722\n",
       "   RELOCATION_FLG               0\n",
       "   Monthly.Rpt.Prd              0\n",
       "   Servicer.Name          8793683\n",
       "   LAST_RT                      0\n",
       "   LAST_UPB               2540689\n",
       "   Loan.Age                     0\n",
       "   Months.To.Legal.Mat          0\n",
       "   Adj.Month.To.Mat          2453\n",
       "   Maturity.Date                0\n",
       "   MSA                          0\n",
       "   Delq.Status                137\n",
       "   MOD_FLAG                     0\n",
       "   Zero.Bal.Code          9263800\n",
       "   ZB_DTE                 9263800\n",
       "   LPI_DTE                9331913\n",
       "   FCC_DTE                9331924\n",
       "   FCC_DTE_Coding         9331924\n",
       "   Delq.Status_Coding         137\n",
       "   LOAN_STATUE                  0\n",
       "dtype: int64"
      ]
     },
     "execution_count": 56,
     "metadata": {},
     "output_type": "execute_result"
    }
   ],
   "source": [
    "Number_NA"
   ]
  },
  {
   "cell_type": "code",
   "execution_count": 62,
   "metadata": {
    "scrolled": false
   },
   "outputs": [
    {
     "data": {
      "text/plain": [
       "0      9187791\n",
       "X        68114\n",
       "1        52514\n",
       "2         9927\n",
       "4+        9424\n",
       "3         4143\n",
       "NaN        137\n",
       "Name: Delq.Status_Coding, dtype: int64"
      ]
     },
     "execution_count": 62,
     "metadata": {},
     "output_type": "execute_result"
    }
   ],
   "source": [
    "# coding Delinquncy status into 0,1,2,3,4+ categories\n",
    "df['Delq.Status_Coding'] = df['Delq.Status'].replace(['4','5','6','7','8','9','10','11','12','13',\n",
    "                                                      '14','15','16','17','18','19','20','21','22'], '4+')\n",
    "# Understand how many categories in Delinquency status\n",
    "df['Delq.Status_Coding'].value_counts(dropna=False)"
   ]
  },
  {
   "cell_type": "code",
   "execution_count": 63,
   "metadata": {},
   "outputs": [
    {
     "data": {
      "text/plain": [
       "0      9187791\n",
       "X        68114\n",
       "1        52514\n",
       "2         9927\n",
       "3         4143\n",
       "4         2669\n",
       "5         2016\n",
       "6         1336\n",
       "7          941\n",
       "8          648\n",
       "9          446\n",
       "10         375\n",
       "11         274\n",
       "12         199\n",
       "13         158\n",
       "NaN        137\n",
       "14         119\n",
       "15          96\n",
       "16          51\n",
       "17          38\n",
       "18          24\n",
       "19          16\n",
       "20          11\n",
       "21           5\n",
       "22           2\n",
       "Name: Delq.Status, dtype: int64"
      ]
     },
     "execution_count": 63,
     "metadata": {},
     "output_type": "execute_result"
    }
   ],
   "source": [
    "df['Delq.Status'].value_counts(dropna=False)"
   ]
  },
  {
   "cell_type": "code",
   "execution_count": 61,
   "metadata": {},
   "outputs": [
    {
     "data": {
      "text/plain": [
       "NaN     9263800\n",
       "1.0       67775\n",
       "6.0         326\n",
       "9.0          89\n",
       "2.0          31\n",
       "16.0         12\n",
       "3.0          12\n",
       "15.0          5\n",
       "Name: Zero.Bal.Code, dtype: int64"
      ]
     },
     "execution_count": 61,
     "metadata": {},
     "output_type": "execute_result"
    }
   ],
   "source": [
    "df['Zero.Bal.Code'].value_counts(dropna=False)"
   ]
  },
  {
   "cell_type": "code",
   "execution_count": 73,
   "metadata": {},
   "outputs": [
    {
     "data": {
      "text/plain": [
       "Delq.Status_Coding  Zero.Bal.Code\n",
       "X                   1.0              67775\n",
       "                    6.0                326\n",
       "                    16.0                12\n",
       "dtype: int64"
      ]
     },
     "execution_count": 73,
     "metadata": {},
     "output_type": "execute_result"
    }
   ],
   "source": [
    "#From the below result, we coukd know that only when delinquency status is unknown, Zero Balance code is denoted\n",
    "df.groupby(['Delq.Status_Coding','Zero.Bal.Code']).size()"
   ]
  },
  {
   "cell_type": "code",
   "execution_count": 7,
   "metadata": {},
   "outputs": [],
   "source": [
    "# coding FCC as 'F'\n",
    "df['FCC_DTE_Coding'] = df['FCC_DTE'].replace(['10/01/2019', '05/01/2019', '08/01/2019', '12/01/2018',\n",
    "       '04/01/2019', '07/01/2019', '01/01/2019', '09/01/2019',\n",
    "       '06/01/2019', '12/01/2019', '11/01/2018', '03/01/2019',\n",
    "       '02/01/2019', '11/01/2019', '10/01/2018', '07/01/2018'],'F')"
   ]
  },
  {
   "cell_type": "code",
   "execution_count": 64,
   "metadata": {},
   "outputs": [
    {
     "data": {
      "text/plain": [
       "NaN    9331924\n",
       "F          126\n",
       "Name: FCC_DTE_Coding, dtype: int64"
      ]
     },
     "execution_count": 64,
     "metadata": {},
     "output_type": "execute_result"
    }
   ],
   "source": [
    "df['FCC_DTE_Coding'].value_counts(dropna=False)"
   ]
  },
  {
   "cell_type": "code",
   "execution_count": 72,
   "metadata": {},
   "outputs": [
    {
     "data": {
      "text/plain": [
       "FCC_DTE_Coding  Zero.Bal.Code\n",
       "F               2.0              31\n",
       "                3.0               9\n",
       "                9.0              86\n",
       "dtype: int64"
      ]
     },
     "execution_count": 72,
     "metadata": {},
     "output_type": "execute_result"
    }
   ],
   "source": [
    "# From below result, we know that Foreclosure only shows when loans denoted as 2.0, 3.0, 9.0. \n",
    "\n",
    "df.groupby(['FCC_DTE_Coding','Zero.Bal.Code']).size()"
   ]
  },
  {
   "cell_type": "code",
   "execution_count": 74,
   "metadata": {},
   "outputs": [
    {
     "data": {
      "text/plain": [
       "Series([], dtype: int64)"
      ]
     },
     "execution_count": 74,
     "metadata": {},
     "output_type": "execute_result"
    }
   ],
   "source": [
    "# In addition, when 'Delq.Status_Coding' shows, Foreclosure would not be come up. they totally exlusive. Combined with result above, \n",
    "# we could just denote 2.0, 3.0, 9.0. as 'F'\n",
    "df.groupby(['FCC_DTE_Coding','Delq.Status_Coding']).size()"
   ]
  },
  {
   "cell_type": "code",
   "execution_count": 95,
   "metadata": {},
   "outputs": [],
   "source": [
    "df['Zero.Bal.Code']=df['Zero.Bal.Code'].replace([2.0, 3.0, 9.0],'F')"
   ]
  },
  {
   "cell_type": "code",
   "execution_count": 96,
   "metadata": {},
   "outputs": [
    {
     "data": {
      "text/plain": [
       "NaN     9263800\n",
       "1.0       67775\n",
       "6.0         326\n",
       "F           132\n",
       "16.0         12\n",
       "15.0          5\n",
       "Name: Zero.Bal.Code, dtype: int64"
      ]
     },
     "execution_count": 96,
     "metadata": {},
     "output_type": "execute_result"
    }
   ],
   "source": [
    "df['Zero.Bal.Code'].value_counts(dropna=False)"
   ]
  },
  {
   "cell_type": "code",
   "execution_count": 134,
   "metadata": {},
   "outputs": [
    {
     "data": {
      "text/plain": [
       "0      9187791\n",
       "X        68114\n",
       "1        52514\n",
       "2         9927\n",
       "4+        9424\n",
       "3         4143\n",
       "NaN        137\n",
       "Name: Delq.Status_Coding, dtype: int64"
      ]
     },
     "execution_count": 134,
     "metadata": {},
     "output_type": "execute_result"
    }
   ],
   "source": [
    "df['Delq.Status_Coding'].value_counts()"
   ]
  },
  {
   "cell_type": "code",
   "execution_count": 135,
   "metadata": {},
   "outputs": [],
   "source": [
    "df['Delq.Status_Coding']=df['Delq.Status_Coding'].replace('NaN','N' )"
   ]
  },
  {
   "cell_type": "code",
   "execution_count": 142,
   "metadata": {},
   "outputs": [
    {
     "data": {
      "text/plain": [
       "0      9187791\n",
       "X        68114\n",
       "1        52514\n",
       "2         9927\n",
       "4+        9424\n",
       "3         4143\n",
       "NaN        137\n",
       "Name: Delq.Status_Coding, dtype: int64"
      ]
     },
     "execution_count": 142,
     "metadata": {},
     "output_type": "execute_result"
    }
   ],
   "source": [
    "df['Delq.Status_Coding'].value_counts(dropna=False)"
   ]
  },
  {
   "cell_type": "code",
   "execution_count": 151,
   "metadata": {},
   "outputs": [],
   "source": [
    "# Because of deal with missing value, I took a lots of time \n",
    "conditions = [\n",
    "    df['Delq.Status_Coding']== '0' ,\n",
    "    df['Delq.Status_Coding']== '1',\n",
    "    df['Delq.Status_Coding']== '2',\n",
    "    df['Delq.Status_Coding']== '3',\n",
    "    df['Delq.Status_Coding']== '4+',\n",
    "    ((pd.isna(df['Delq.Status_Coding']))& (df['Zero.Bal.Code']== 'F' )),\n",
    "    ((df['Delq.Status_Coding']=='X' )& (df['Zero.Bal.Code']== 1.0 )),\n",
    "    ((df['Delq.Status_Coding']=='X' )& (df['Zero.Bal.Code']== 6.0 )),\n",
    "    ((df['Delq.Status_Coding']=='X' )& (df['Zero.Bal.Code']== 16.0 )),\n",
    "    ((df['Delq.Status_Coding']=='X' )& (pd.isna(df['Zero.Bal.Code']))),\n",
    "    ((pd.isna(df['Delq.Status_Coding']))& (df['Zero.Bal.Code']== 15.0))\n",
    "]"
   ]
  },
  {
   "cell_type": "code",
   "execution_count": 152,
   "metadata": {},
   "outputs": [],
   "source": [
    "choises = ['0','1','2','3','4+','F','P','Other','Other','Other','Other']"
   ]
  },
  {
   "cell_type": "code",
   "execution_count": 168,
   "metadata": {},
   "outputs": [],
   "source": [
    "df['Loan_Status'] = np.select(condlist=conditions, choicelist = choises)"
   ]
  },
  {
   "cell_type": "code",
   "execution_count": 169,
   "metadata": {},
   "outputs": [
    {
     "data": {
      "text/plain": [
       "0        9187791\n",
       "P          67775\n",
       "1          52514\n",
       "2           9927\n",
       "4+          9424\n",
       "3           4143\n",
       "Other        344\n",
       "F            132\n",
       "Name: Loan_Status, dtype: int64"
      ]
     },
     "execution_count": 169,
     "metadata": {},
     "output_type": "execute_result"
    }
   ],
   "source": [
    "df['Loan_Status'].value_counts()"
   ]
  },
  {
   "cell_type": "code",
   "execution_count": 158,
   "metadata": {
    "scrolled": false
   },
   "outputs": [],
   "source": [
    "df = df.drop(['LOAN_STATUE','LOAN_STATUE_1'], axis = 1)"
   ]
  },
  {
   "cell_type": "code",
   "execution_count": 166,
   "metadata": {},
   "outputs": [],
   "source": [
    "df = df.drop(['LOAN_STATUE_NEW'], axis = 1)"
   ]
  },
  {
   "cell_type": "code",
   "execution_count": 201,
   "metadata": {},
   "outputs": [],
   "source": [
    "Sum_Loan_Status = df.groupby([df['Monthly.Rpt.Prd'], df['Loan_Status']]).size()"
   ]
  },
  {
   "cell_type": "code",
   "execution_count": 205,
   "metadata": {},
   "outputs": [],
   "source": [
    "Sum_Loan_Status = pd.DataFrame(Sum_Loan_Status)\n",
    "Sum_Loan_Status= Sum_Loan_Status.unstack()"
   ]
  },
  {
   "cell_type": "code",
   "execution_count": 206,
   "metadata": {},
   "outputs": [
    {
     "data": {
      "text/html": [
       "<div>\n",
       "<style scoped>\n",
       "    .dataframe tbody tr th:only-of-type {\n",
       "        vertical-align: middle;\n",
       "    }\n",
       "\n",
       "    .dataframe tbody tr th {\n",
       "        vertical-align: top;\n",
       "    }\n",
       "\n",
       "    .dataframe thead tr th {\n",
       "        text-align: left;\n",
       "    }\n",
       "\n",
       "    .dataframe thead tr:last-of-type th {\n",
       "        text-align: right;\n",
       "    }\n",
       "</style>\n",
       "<table border=\"1\" class=\"dataframe\">\n",
       "  <thead>\n",
       "    <tr>\n",
       "      <th></th>\n",
       "      <th colspan=\"8\" halign=\"left\">0</th>\n",
       "    </tr>\n",
       "    <tr>\n",
       "      <th>Loan_Status</th>\n",
       "      <th>0</th>\n",
       "      <th>1</th>\n",
       "      <th>2</th>\n",
       "      <th>3</th>\n",
       "      <th>4+</th>\n",
       "      <th>F</th>\n",
       "      <th>Other</th>\n",
       "      <th>P</th>\n",
       "    </tr>\n",
       "    <tr>\n",
       "      <th>Monthly.Rpt.Prd</th>\n",
       "      <th></th>\n",
       "      <th></th>\n",
       "      <th></th>\n",
       "      <th></th>\n",
       "      <th></th>\n",
       "      <th></th>\n",
       "      <th></th>\n",
       "      <th></th>\n",
       "    </tr>\n",
       "  </thead>\n",
       "  <tbody>\n",
       "    <tr>\n",
       "      <th>2018-01-01</th>\n",
       "      <td>154450.0</td>\n",
       "      <td>100.0</td>\n",
       "      <td>NaN</td>\n",
       "      <td>NaN</td>\n",
       "      <td>NaN</td>\n",
       "      <td>NaN</td>\n",
       "      <td>NaN</td>\n",
       "      <td>NaN</td>\n",
       "    </tr>\n",
       "    <tr>\n",
       "      <th>2018-02-01</th>\n",
       "      <td>293478.0</td>\n",
       "      <td>983.0</td>\n",
       "      <td>10.0</td>\n",
       "      <td>NaN</td>\n",
       "      <td>NaN</td>\n",
       "      <td>NaN</td>\n",
       "      <td>1.0</td>\n",
       "      <td>225.0</td>\n",
       "    </tr>\n",
       "    <tr>\n",
       "      <th>2018-03-01</th>\n",
       "      <td>424088.0</td>\n",
       "      <td>1235.0</td>\n",
       "      <td>59.0</td>\n",
       "      <td>2.0</td>\n",
       "      <td>NaN</td>\n",
       "      <td>NaN</td>\n",
       "      <td>2.0</td>\n",
       "      <td>593.0</td>\n",
       "    </tr>\n",
       "    <tr>\n",
       "      <th>2018-04-01</th>\n",
       "      <td>422907.0</td>\n",
       "      <td>1381.0</td>\n",
       "      <td>123.0</td>\n",
       "      <td>23.0</td>\n",
       "      <td>2.0</td>\n",
       "      <td>NaN</td>\n",
       "      <td>4.0</td>\n",
       "      <td>944.0</td>\n",
       "    </tr>\n",
       "    <tr>\n",
       "      <th>2018-05-01</th>\n",
       "      <td>421498.0</td>\n",
       "      <td>1318.0</td>\n",
       "      <td>147.0</td>\n",
       "      <td>69.0</td>\n",
       "      <td>11.0</td>\n",
       "      <td>NaN</td>\n",
       "      <td>7.0</td>\n",
       "      <td>1387.0</td>\n",
       "    </tr>\n",
       "    <tr>\n",
       "      <th>2018-06-01</th>\n",
       "      <td>419646.0</td>\n",
       "      <td>1502.0</td>\n",
       "      <td>153.0</td>\n",
       "      <td>69.0</td>\n",
       "      <td>47.0</td>\n",
       "      <td>NaN</td>\n",
       "      <td>10.0</td>\n",
       "      <td>1616.0</td>\n",
       "    </tr>\n",
       "    <tr>\n",
       "      <th>2018-07-01</th>\n",
       "      <td>417628.0</td>\n",
       "      <td>1511.0</td>\n",
       "      <td>174.0</td>\n",
       "      <td>68.0</td>\n",
       "      <td>70.0</td>\n",
       "      <td>1.0</td>\n",
       "      <td>9.0</td>\n",
       "      <td>1956.0</td>\n",
       "    </tr>\n",
       "    <tr>\n",
       "      <th>2018-08-01</th>\n",
       "      <td>415403.0</td>\n",
       "      <td>1411.0</td>\n",
       "      <td>202.0</td>\n",
       "      <td>72.0</td>\n",
       "      <td>95.0</td>\n",
       "      <td>NaN</td>\n",
       "      <td>21.0</td>\n",
       "      <td>2247.0</td>\n",
       "    </tr>\n",
       "    <tr>\n",
       "      <th>2018-09-01</th>\n",
       "      <td>412488.0</td>\n",
       "      <td>2219.0</td>\n",
       "      <td>294.0</td>\n",
       "      <td>105.0</td>\n",
       "      <td>124.0</td>\n",
       "      <td>NaN</td>\n",
       "      <td>23.0</td>\n",
       "      <td>1930.0</td>\n",
       "    </tr>\n",
       "    <tr>\n",
       "      <th>2018-10-01</th>\n",
       "      <td>410372.0</td>\n",
       "      <td>1984.0</td>\n",
       "      <td>345.0</td>\n",
       "      <td>120.0</td>\n",
       "      <td>173.0</td>\n",
       "      <td>2.0</td>\n",
       "      <td>44.0</td>\n",
       "      <td>2190.0</td>\n",
       "    </tr>\n",
       "    <tr>\n",
       "      <th>2018-11-01</th>\n",
       "      <td>408156.0</td>\n",
       "      <td>2158.0</td>\n",
       "      <td>402.0</td>\n",
       "      <td>151.0</td>\n",
       "      <td>216.0</td>\n",
       "      <td>3.0</td>\n",
       "      <td>41.0</td>\n",
       "      <td>1867.0</td>\n",
       "    </tr>\n",
       "    <tr>\n",
       "      <th>2018-12-01</th>\n",
       "      <td>405594.0</td>\n",
       "      <td>2641.0</td>\n",
       "      <td>459.0</td>\n",
       "      <td>212.0</td>\n",
       "      <td>303.0</td>\n",
       "      <td>3.0</td>\n",
       "      <td>48.0</td>\n",
       "      <td>1823.0</td>\n",
       "    </tr>\n",
       "    <tr>\n",
       "      <th>2019-01-01</th>\n",
       "      <td>403855.0</td>\n",
       "      <td>2343.0</td>\n",
       "      <td>554.0</td>\n",
       "      <td>199.0</td>\n",
       "      <td>387.0</td>\n",
       "      <td>7.0</td>\n",
       "      <td>34.0</td>\n",
       "      <td>1830.0</td>\n",
       "    </tr>\n",
       "    <tr>\n",
       "      <th>2019-02-01</th>\n",
       "      <td>400800.0</td>\n",
       "      <td>3173.0</td>\n",
       "      <td>528.0</td>\n",
       "      <td>228.0</td>\n",
       "      <td>477.0</td>\n",
       "      <td>5.0</td>\n",
       "      <td>19.0</td>\n",
       "      <td>2108.0</td>\n",
       "    </tr>\n",
       "    <tr>\n",
       "      <th>2019-03-01</th>\n",
       "      <td>398457.0</td>\n",
       "      <td>2708.0</td>\n",
       "      <td>511.0</td>\n",
       "      <td>199.0</td>\n",
       "      <td>553.0</td>\n",
       "      <td>3.0</td>\n",
       "      <td>19.0</td>\n",
       "      <td>2756.0</td>\n",
       "    </tr>\n",
       "    <tr>\n",
       "      <th>2019-04-01</th>\n",
       "      <td>395359.0</td>\n",
       "      <td>2497.0</td>\n",
       "      <td>523.0</td>\n",
       "      <td>208.0</td>\n",
       "      <td>594.0</td>\n",
       "      <td>11.0</td>\n",
       "      <td>7.0</td>\n",
       "      <td>3229.0</td>\n",
       "    </tr>\n",
       "    <tr>\n",
       "      <th>2019-05-01</th>\n",
       "      <td>391512.0</td>\n",
       "      <td>2396.0</td>\n",
       "      <td>530.0</td>\n",
       "      <td>220.0</td>\n",
       "      <td>620.0</td>\n",
       "      <td>10.0</td>\n",
       "      <td>5.0</td>\n",
       "      <td>3888.0</td>\n",
       "    </tr>\n",
       "    <tr>\n",
       "      <th>2019-06-01</th>\n",
       "      <td>386809.0</td>\n",
       "      <td>3246.0</td>\n",
       "      <td>642.0</td>\n",
       "      <td>252.0</td>\n",
       "      <td>678.0</td>\n",
       "      <td>6.0</td>\n",
       "      <td>4.0</td>\n",
       "      <td>3641.0</td>\n",
       "    </tr>\n",
       "    <tr>\n",
       "      <th>2019-07-01</th>\n",
       "      <td>382442.0</td>\n",
       "      <td>2822.0</td>\n",
       "      <td>674.0</td>\n",
       "      <td>279.0</td>\n",
       "      <td>700.0</td>\n",
       "      <td>9.0</td>\n",
       "      <td>11.0</td>\n",
       "      <td>4690.0</td>\n",
       "    </tr>\n",
       "    <tr>\n",
       "      <th>2019-08-01</th>\n",
       "      <td>377214.0</td>\n",
       "      <td>2700.0</td>\n",
       "      <td>671.0</td>\n",
       "      <td>301.0</td>\n",
       "      <td>751.0</td>\n",
       "      <td>14.0</td>\n",
       "      <td>7.0</td>\n",
       "      <td>5259.0</td>\n",
       "    </tr>\n",
       "    <tr>\n",
       "      <th>2019-09-01</th>\n",
       "      <td>370711.0</td>\n",
       "      <td>3051.0</td>\n",
       "      <td>713.0</td>\n",
       "      <td>326.0</td>\n",
       "      <td>822.0</td>\n",
       "      <td>8.0</td>\n",
       "      <td>6.0</td>\n",
       "      <td>6000.0</td>\n",
       "    </tr>\n",
       "    <tr>\n",
       "      <th>2019-10-01</th>\n",
       "      <td>364083.0</td>\n",
       "      <td>2808.0</td>\n",
       "      <td>719.0</td>\n",
       "      <td>330.0</td>\n",
       "      <td>869.0</td>\n",
       "      <td>20.0</td>\n",
       "      <td>5.0</td>\n",
       "      <td>6788.0</td>\n",
       "    </tr>\n",
       "    <tr>\n",
       "      <th>2019-11-01</th>\n",
       "      <td>358099.0</td>\n",
       "      <td>3220.0</td>\n",
       "      <td>729.0</td>\n",
       "      <td>362.0</td>\n",
       "      <td>938.0</td>\n",
       "      <td>17.0</td>\n",
       "      <td>3.0</td>\n",
       "      <td>5441.0</td>\n",
       "    </tr>\n",
       "    <tr>\n",
       "      <th>2019-12-01</th>\n",
       "      <td>352742.0</td>\n",
       "      <td>3107.0</td>\n",
       "      <td>765.0</td>\n",
       "      <td>348.0</td>\n",
       "      <td>994.0</td>\n",
       "      <td>13.0</td>\n",
       "      <td>14.0</td>\n",
       "      <td>5367.0</td>\n",
       "    </tr>\n",
       "  </tbody>\n",
       "</table>\n",
       "</div>"
      ],
      "text/plain": [
       "                        0                                                 \n",
       "Loan_Status             0       1      2      3     4+     F Other       P\n",
       "Monthly.Rpt.Prd                                                           \n",
       "2018-01-01       154450.0   100.0    NaN    NaN    NaN   NaN   NaN     NaN\n",
       "2018-02-01       293478.0   983.0   10.0    NaN    NaN   NaN   1.0   225.0\n",
       "2018-03-01       424088.0  1235.0   59.0    2.0    NaN   NaN   2.0   593.0\n",
       "2018-04-01       422907.0  1381.0  123.0   23.0    2.0   NaN   4.0   944.0\n",
       "2018-05-01       421498.0  1318.0  147.0   69.0   11.0   NaN   7.0  1387.0\n",
       "2018-06-01       419646.0  1502.0  153.0   69.0   47.0   NaN  10.0  1616.0\n",
       "2018-07-01       417628.0  1511.0  174.0   68.0   70.0   1.0   9.0  1956.0\n",
       "2018-08-01       415403.0  1411.0  202.0   72.0   95.0   NaN  21.0  2247.0\n",
       "2018-09-01       412488.0  2219.0  294.0  105.0  124.0   NaN  23.0  1930.0\n",
       "2018-10-01       410372.0  1984.0  345.0  120.0  173.0   2.0  44.0  2190.0\n",
       "2018-11-01       408156.0  2158.0  402.0  151.0  216.0   3.0  41.0  1867.0\n",
       "2018-12-01       405594.0  2641.0  459.0  212.0  303.0   3.0  48.0  1823.0\n",
       "2019-01-01       403855.0  2343.0  554.0  199.0  387.0   7.0  34.0  1830.0\n",
       "2019-02-01       400800.0  3173.0  528.0  228.0  477.0   5.0  19.0  2108.0\n",
       "2019-03-01       398457.0  2708.0  511.0  199.0  553.0   3.0  19.0  2756.0\n",
       "2019-04-01       395359.0  2497.0  523.0  208.0  594.0  11.0   7.0  3229.0\n",
       "2019-05-01       391512.0  2396.0  530.0  220.0  620.0  10.0   5.0  3888.0\n",
       "2019-06-01       386809.0  3246.0  642.0  252.0  678.0   6.0   4.0  3641.0\n",
       "2019-07-01       382442.0  2822.0  674.0  279.0  700.0   9.0  11.0  4690.0\n",
       "2019-08-01       377214.0  2700.0  671.0  301.0  751.0  14.0   7.0  5259.0\n",
       "2019-09-01       370711.0  3051.0  713.0  326.0  822.0   8.0   6.0  6000.0\n",
       "2019-10-01       364083.0  2808.0  719.0  330.0  869.0  20.0   5.0  6788.0\n",
       "2019-11-01       358099.0  3220.0  729.0  362.0  938.0  17.0   3.0  5441.0\n",
       "2019-12-01       352742.0  3107.0  765.0  348.0  994.0  13.0  14.0  5367.0"
      ]
     },
     "execution_count": 206,
     "metadata": {},
     "output_type": "execute_result"
    }
   ],
   "source": [
    "Sum_Loan_Status\n"
   ]
  },
  {
   "cell_type": "code",
   "execution_count": null,
   "metadata": {},
   "outputs": [],
   "source": []
  }
 ],
 "metadata": {
  "kernelspec": {
   "display_name": "Python 3",
   "language": "python",
   "name": "python3"
  },
  "language_info": {
   "codemirror_mode": {
    "name": "ipython",
    "version": 3
   },
   "file_extension": ".py",
   "mimetype": "text/x-python",
   "name": "python",
   "nbconvert_exporter": "python",
   "pygments_lexer": "ipython3",
   "version": "3.7.3"
  }
 },
 "nbformat": 4,
 "nbformat_minor": 4
}
