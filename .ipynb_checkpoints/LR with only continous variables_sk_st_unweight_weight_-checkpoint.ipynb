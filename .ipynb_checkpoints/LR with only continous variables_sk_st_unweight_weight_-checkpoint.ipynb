{
 "cells": [
  {
   "cell_type": "code",
   "execution_count": 1,
   "metadata": {},
   "outputs": [],
   "source": [
    "import pandas as pd\n",
    "from pandas import Series, DataFrame\n",
    "import numpy as np\n",
    "import matplotlib.pyplot as plt\n",
    "import seaborn as sns\n",
    "%matplotlib inline\n",
    "plt.style.use('ggplot')"
   ]
  },
  {
   "cell_type": "code",
   "execution_count": 2,
   "metadata": {},
   "outputs": [],
   "source": [
    "# Import two datesets \n",
    "colnames = [\"LOAN_ID\", \"ORIG_CHN\", \"Seller.Name\", \"ORIG_RT\", \"ORIG_AMT\", \"ORIG_TRM\", \"ORIG_DTE\",\"FRST_DTE\", \"OLTV\", \n",
    "            \"OCLTV\", \"NUM_BO\", \"DTI\", \"CSCORE_B\", \"FTHB_FLG\", \"PURPOSE\", \"PROP_TYP\",\"NUM_UNIT\", \"OCC_STAT\", \n",
    "            \"STATE\", \"ZIP_3\", \"MI_PCT\", \"Product.Type\", \"CSCORE_C\", \"MI_TYPE\", \"RELOCATION_FLG\"]\n",
    "Data_A = pd.read_table('D:/1-Intern/Project_1/2018Q1/Acquisition_2018Q1.txt', \n",
    "                       sep = '|', header = None, names = colnames)\n",
    "colnames_P = [\"LOAN_ID\", \"Monthly.Rpt.Prd\", \"Servicer.Name\", \"LAST_RT\", \"LAST_UPB\", \"Loan.Age\", \"Months.To.Legal.Mat\", \n",
    "              \"Adj.Month.To.Mat\", \"Maturity.Date\", \"MSA\", \"Delq.Status\", \"MOD_FLAG\", \"Zero.Bal.Code\", \n",
    "              \"ZB_DTE\", \"LPI_DTE\", \"FCC_DTE\",\"DISP_DT\", \"FCC_COST\", \"PP_COST\", \"AR_COST\", \"IE_COST\", \"TAX_COST\", \"NS_PROCS\",\n",
    "              \"CE_PROCS\", \"RMW_PROCS\", \"O_PROCS\", \"NON_INT_UPB\", \"PRIN_FORG_UPB_FHFA\", \"REPCH_FLAG\", \"PRIN_FORG_UPB_OTH\", \"TRANSFER_FLG\"]\n",
    "Data_P = pd.read_table('D:/1-Intern/Project_1/2018Q1/Performance_2018Q1.txt', \n",
    "                       sep = '|', header = None, names = colnames_P,low_memory=False)"
   ]
  },
  {
   "cell_type": "code",
   "execution_count": 4,
   "metadata": {},
   "outputs": [],
   "source": [
    "# Convert string into datetime\n",
    "from datetime import datetime \n",
    "Data_P['Monthly.Rpt.Prd']= [datetime.strptime(x, '%m/%d/%Y') for x in Data_P.loc[:, 'Monthly.Rpt.Prd']]"
   ]
  },
  {
   "cell_type": "code",
   "execution_count": 5,
   "metadata": {},
   "outputs": [
    {
     "data": {
      "text/plain": [
       "0    9318346\n",
       "1      13567\n",
       "Name: Delq.Status_D90, dtype: int64"
      ]
     },
     "execution_count": 5,
     "metadata": {},
     "output_type": "execute_result"
    }
   ],
   "source": [
    "Data_P['Delq.Status_D90']= Data_P['Delq.Status'].replace(['1','2','X'], '0')\n",
    "Data_P['Delq.Status_D90'] = Data_P['Delq.Status_D90'].replace(['3','4','5','6','7','8','9','10','11','12',\n",
    "                                                     '13','14','15','16','17','18','19','20','21','22'], '1')\n",
    "Data_P['Delq.Status_D90'].value_counts()"
   ]
  },
  {
   "cell_type": "code",
   "execution_count": 8,
   "metadata": {},
   "outputs": [],
   "source": [
    "Data_P['Delq.Status_D90']=pd.to_numeric(Data_P['Delq.Status_D90'])"
   ]
  },
  {
   "cell_type": "code",
   "execution_count": 10,
   "metadata": {},
   "outputs": [
    {
     "data": {
      "text/plain": [
       "0.0     423359\n",
       "1.0        636\n",
       "2.0        374\n",
       "4.0        337\n",
       "3.0        283\n",
       "5.0        265\n",
       "6.0        206\n",
       "8.0        162\n",
       "7.0        151\n",
       "9.0        104\n",
       "11.0        75\n",
       "10.0        74\n",
       "12.0        45\n",
       "13.0        40\n",
       "14.0        25\n",
       "16.0        20\n",
       "15.0        20\n",
       "18.0        13\n",
       "17.0        10\n",
       "20.0         4\n",
       "19.0         3\n",
       "Name: Delq.Status_D90, dtype: int64"
      ]
     },
     "execution_count": 10,
     "metadata": {},
     "output_type": "execute_result"
    }
   ],
   "source": [
    "# Start to create a outcome variable in model\n",
    "Flag_90 = Data_P['Delq.Status_D90'].groupby(Data_P['LOAN_ID']).sum()\n",
    "Flag_90 = pd.DataFrame(Flag_90)\n",
    "Flag_90 = Flag_90.reset_index()\n",
    "Flag_90['Delq.Status_D90'].value_counts()"
   ]
  },
  {
   "cell_type": "code",
   "execution_count": 11,
   "metadata": {},
   "outputs": [],
   "source": [
    "Flag_90['Delq.Status_D90']= Flag_90.loc[:,'Delq.Status_D90'].replace([2,3,4,5,6,7,8,9,10,11,12,13,14,15,16,17,18,19,20], 1)"
   ]
  },
  {
   "cell_type": "code",
   "execution_count": 12,
   "metadata": {},
   "outputs": [
    {
     "data": {
      "text/plain": [
       "0.0    423359\n",
       "1.0      2847\n",
       "Name: Delq.Status_D90, dtype: int64"
      ]
     },
     "execution_count": 12,
     "metadata": {},
     "output_type": "execute_result"
    }
   ],
   "source": [
    "Flag_90['Delq.Status_D90'].value_counts()"
   ]
  },
  {
   "cell_type": "code",
   "execution_count": 13,
   "metadata": {},
   "outputs": [],
   "source": [
    "df = pd.merge(Data_A, Flag_90, on = 'LOAN_ID')"
   ]
  },
  {
   "cell_type": "code",
   "execution_count": 14,
   "metadata": {},
   "outputs": [],
   "source": [
    "#Date exploration - Predictor Variables\n",
    "## 1: usually 'Seller.Name' is not related to model, so drop it.\n",
    "df = df.drop(columns = 'Seller.Name')"
   ]
  },
  {
   "cell_type": "code",
   "execution_count": 15,
   "metadata": {},
   "outputs": [
    {
     "name": "stdout",
     "output_type": "stream",
     "text": [
      "<class 'pandas.core.frame.DataFrame'>\n",
      "Int64Index: 426206 entries, 0 to 426205\n",
      "Data columns (total 25 columns):\n",
      " #   Column           Non-Null Count   Dtype  \n",
      "---  ------           --------------   -----  \n",
      " 0   LOAN_ID          426206 non-null  int64  \n",
      " 1   ORIG_CHN         426206 non-null  object \n",
      " 2   ORIG_RT          426206 non-null  float64\n",
      " 3   ORIG_AMT         426206 non-null  int64  \n",
      " 4   ORIG_TRM         426206 non-null  int64  \n",
      " 5   ORIG_DTE         426206 non-null  object \n",
      " 6   FRST_DTE         426206 non-null  object \n",
      " 7   OLTV             426206 non-null  int64  \n",
      " 8   OCLTV            426205 non-null  float64\n",
      " 9   NUM_BO           426206 non-null  int64  \n",
      " 10  DTI              426095 non-null  float64\n",
      " 11  CSCORE_B         425870 non-null  float64\n",
      " 12  FTHB_FLG         426206 non-null  object \n",
      " 13  PURPOSE          426206 non-null  object \n",
      " 14  PROP_TYP         426206 non-null  object \n",
      " 15  NUM_UNIT         426206 non-null  int64  \n",
      " 16  OCC_STAT         426206 non-null  object \n",
      " 17  STATE            426206 non-null  object \n",
      " 18  ZIP_3            426206 non-null  int64  \n",
      " 19  MI_PCT           114100 non-null  float64\n",
      " 20  Product.Type     426206 non-null  object \n",
      " 21  CSCORE_C         190783 non-null  float64\n",
      " 22  MI_TYPE          114100 non-null  float64\n",
      " 23  RELOCATION_FLG   426206 non-null  object \n",
      " 24  Delq.Status_D90  426206 non-null  float64\n",
      "dtypes: float64(8), int64(7), object(10)\n",
      "memory usage: 84.5+ MB\n"
     ]
    }
   ],
   "source": [
    "df.info()"
   ]
  },
  {
   "cell_type": "code",
   "execution_count": 16,
   "metadata": {},
   "outputs": [
    {
     "data": {
      "text/html": [
       "<div>\n",
       "<style scoped>\n",
       "    .dataframe tbody tr th:only-of-type {\n",
       "        vertical-align: middle;\n",
       "    }\n",
       "\n",
       "    .dataframe tbody tr th {\n",
       "        vertical-align: top;\n",
       "    }\n",
       "\n",
       "    .dataframe thead th {\n",
       "        text-align: right;\n",
       "    }\n",
       "</style>\n",
       "<table border=\"1\" class=\"dataframe\">\n",
       "  <thead>\n",
       "    <tr style=\"text-align: right;\">\n",
       "      <th></th>\n",
       "      <th>LOAN_ID</th>\n",
       "      <th>ORIG_CHN</th>\n",
       "      <th>ORIG_RT</th>\n",
       "      <th>ORIG_AMT</th>\n",
       "      <th>ORIG_TRM</th>\n",
       "      <th>ORIG_DTE</th>\n",
       "      <th>FRST_DTE</th>\n",
       "      <th>OLTV</th>\n",
       "      <th>OCLTV</th>\n",
       "      <th>NUM_BO</th>\n",
       "      <th>...</th>\n",
       "      <th>NUM_UNIT</th>\n",
       "      <th>OCC_STAT</th>\n",
       "      <th>STATE</th>\n",
       "      <th>ZIP_3</th>\n",
       "      <th>MI_PCT</th>\n",
       "      <th>Product.Type</th>\n",
       "      <th>CSCORE_C</th>\n",
       "      <th>MI_TYPE</th>\n",
       "      <th>RELOCATION_FLG</th>\n",
       "      <th>Delq.Status_D90</th>\n",
       "    </tr>\n",
       "  </thead>\n",
       "  <tbody>\n",
       "    <tr>\n",
       "      <th>0</th>\n",
       "      <td>100001040173</td>\n",
       "      <td>R</td>\n",
       "      <td>4.250</td>\n",
       "      <td>453000</td>\n",
       "      <td>360</td>\n",
       "      <td>01/2018</td>\n",
       "      <td>03/2018</td>\n",
       "      <td>65</td>\n",
       "      <td>65.0</td>\n",
       "      <td>1</td>\n",
       "      <td>...</td>\n",
       "      <td>1</td>\n",
       "      <td>P</td>\n",
       "      <td>OH</td>\n",
       "      <td>430</td>\n",
       "      <td>NaN</td>\n",
       "      <td>FRM</td>\n",
       "      <td>NaN</td>\n",
       "      <td>NaN</td>\n",
       "      <td>N</td>\n",
       "      <td>0.0</td>\n",
       "    </tr>\n",
       "    <tr>\n",
       "      <th>1</th>\n",
       "      <td>100002370993</td>\n",
       "      <td>C</td>\n",
       "      <td>4.250</td>\n",
       "      <td>266000</td>\n",
       "      <td>360</td>\n",
       "      <td>01/2018</td>\n",
       "      <td>03/2018</td>\n",
       "      <td>80</td>\n",
       "      <td>80.0</td>\n",
       "      <td>2</td>\n",
       "      <td>...</td>\n",
       "      <td>1</td>\n",
       "      <td>P</td>\n",
       "      <td>IN</td>\n",
       "      <td>467</td>\n",
       "      <td>NaN</td>\n",
       "      <td>FRM</td>\n",
       "      <td>793.0</td>\n",
       "      <td>NaN</td>\n",
       "      <td>N</td>\n",
       "      <td>0.0</td>\n",
       "    </tr>\n",
       "    <tr>\n",
       "      <th>2</th>\n",
       "      <td>100005405807</td>\n",
       "      <td>R</td>\n",
       "      <td>3.990</td>\n",
       "      <td>233000</td>\n",
       "      <td>360</td>\n",
       "      <td>12/2017</td>\n",
       "      <td>01/2018</td>\n",
       "      <td>79</td>\n",
       "      <td>79.0</td>\n",
       "      <td>2</td>\n",
       "      <td>...</td>\n",
       "      <td>1</td>\n",
       "      <td>P</td>\n",
       "      <td>CA</td>\n",
       "      <td>936</td>\n",
       "      <td>NaN</td>\n",
       "      <td>FRM</td>\n",
       "      <td>665.0</td>\n",
       "      <td>NaN</td>\n",
       "      <td>N</td>\n",
       "      <td>0.0</td>\n",
       "    </tr>\n",
       "    <tr>\n",
       "      <th>3</th>\n",
       "      <td>100008071646</td>\n",
       "      <td>R</td>\n",
       "      <td>4.250</td>\n",
       "      <td>184000</td>\n",
       "      <td>360</td>\n",
       "      <td>01/2018</td>\n",
       "      <td>03/2018</td>\n",
       "      <td>80</td>\n",
       "      <td>80.0</td>\n",
       "      <td>1</td>\n",
       "      <td>...</td>\n",
       "      <td>1</td>\n",
       "      <td>P</td>\n",
       "      <td>FL</td>\n",
       "      <td>336</td>\n",
       "      <td>NaN</td>\n",
       "      <td>FRM</td>\n",
       "      <td>NaN</td>\n",
       "      <td>NaN</td>\n",
       "      <td>N</td>\n",
       "      <td>0.0</td>\n",
       "    </tr>\n",
       "    <tr>\n",
       "      <th>4</th>\n",
       "      <td>100010739040</td>\n",
       "      <td>R</td>\n",
       "      <td>4.250</td>\n",
       "      <td>242000</td>\n",
       "      <td>360</td>\n",
       "      <td>02/2018</td>\n",
       "      <td>04/2018</td>\n",
       "      <td>49</td>\n",
       "      <td>49.0</td>\n",
       "      <td>1</td>\n",
       "      <td>...</td>\n",
       "      <td>1</td>\n",
       "      <td>P</td>\n",
       "      <td>CA</td>\n",
       "      <td>906</td>\n",
       "      <td>NaN</td>\n",
       "      <td>FRM</td>\n",
       "      <td>NaN</td>\n",
       "      <td>NaN</td>\n",
       "      <td>N</td>\n",
       "      <td>0.0</td>\n",
       "    </tr>\n",
       "    <tr>\n",
       "      <th>5</th>\n",
       "      <td>100012691523</td>\n",
       "      <td>R</td>\n",
       "      <td>5.375</td>\n",
       "      <td>180000</td>\n",
       "      <td>360</td>\n",
       "      <td>01/2018</td>\n",
       "      <td>03/2018</td>\n",
       "      <td>80</td>\n",
       "      <td>80.0</td>\n",
       "      <td>1</td>\n",
       "      <td>...</td>\n",
       "      <td>1</td>\n",
       "      <td>P</td>\n",
       "      <td>OK</td>\n",
       "      <td>730</td>\n",
       "      <td>NaN</td>\n",
       "      <td>FRM</td>\n",
       "      <td>NaN</td>\n",
       "      <td>NaN</td>\n",
       "      <td>N</td>\n",
       "      <td>0.0</td>\n",
       "    </tr>\n",
       "    <tr>\n",
       "      <th>6</th>\n",
       "      <td>100020244091</td>\n",
       "      <td>R</td>\n",
       "      <td>4.875</td>\n",
       "      <td>140000</td>\n",
       "      <td>360</td>\n",
       "      <td>01/2018</td>\n",
       "      <td>03/2018</td>\n",
       "      <td>39</td>\n",
       "      <td>39.0</td>\n",
       "      <td>2</td>\n",
       "      <td>...</td>\n",
       "      <td>1</td>\n",
       "      <td>P</td>\n",
       "      <td>PA</td>\n",
       "      <td>189</td>\n",
       "      <td>NaN</td>\n",
       "      <td>FRM</td>\n",
       "      <td>782.0</td>\n",
       "      <td>NaN</td>\n",
       "      <td>N</td>\n",
       "      <td>0.0</td>\n",
       "    </tr>\n",
       "    <tr>\n",
       "      <th>7</th>\n",
       "      <td>100020295408</td>\n",
       "      <td>R</td>\n",
       "      <td>4.875</td>\n",
       "      <td>150000</td>\n",
       "      <td>360</td>\n",
       "      <td>02/2018</td>\n",
       "      <td>04/2018</td>\n",
       "      <td>69</td>\n",
       "      <td>69.0</td>\n",
       "      <td>1</td>\n",
       "      <td>...</td>\n",
       "      <td>1</td>\n",
       "      <td>P</td>\n",
       "      <td>TX</td>\n",
       "      <td>750</td>\n",
       "      <td>NaN</td>\n",
       "      <td>FRM</td>\n",
       "      <td>NaN</td>\n",
       "      <td>NaN</td>\n",
       "      <td>N</td>\n",
       "      <td>0.0</td>\n",
       "    </tr>\n",
       "    <tr>\n",
       "      <th>8</th>\n",
       "      <td>100021639708</td>\n",
       "      <td>R</td>\n",
       "      <td>3.990</td>\n",
       "      <td>227000</td>\n",
       "      <td>360</td>\n",
       "      <td>01/2018</td>\n",
       "      <td>03/2018</td>\n",
       "      <td>80</td>\n",
       "      <td>80.0</td>\n",
       "      <td>1</td>\n",
       "      <td>...</td>\n",
       "      <td>1</td>\n",
       "      <td>P</td>\n",
       "      <td>CO</td>\n",
       "      <td>809</td>\n",
       "      <td>NaN</td>\n",
       "      <td>FRM</td>\n",
       "      <td>NaN</td>\n",
       "      <td>NaN</td>\n",
       "      <td>N</td>\n",
       "      <td>0.0</td>\n",
       "    </tr>\n",
       "    <tr>\n",
       "      <th>9</th>\n",
       "      <td>100022479643</td>\n",
       "      <td>C</td>\n",
       "      <td>4.000</td>\n",
       "      <td>200000</td>\n",
       "      <td>360</td>\n",
       "      <td>11/2017</td>\n",
       "      <td>01/2018</td>\n",
       "      <td>80</td>\n",
       "      <td>80.0</td>\n",
       "      <td>1</td>\n",
       "      <td>...</td>\n",
       "      <td>1</td>\n",
       "      <td>P</td>\n",
       "      <td>MD</td>\n",
       "      <td>210</td>\n",
       "      <td>NaN</td>\n",
       "      <td>FRM</td>\n",
       "      <td>NaN</td>\n",
       "      <td>NaN</td>\n",
       "      <td>N</td>\n",
       "      <td>0.0</td>\n",
       "    </tr>\n",
       "  </tbody>\n",
       "</table>\n",
       "<p>10 rows × 25 columns</p>\n",
       "</div>"
      ],
      "text/plain": [
       "        LOAN_ID ORIG_CHN  ORIG_RT  ORIG_AMT  ORIG_TRM ORIG_DTE FRST_DTE  OLTV  \\\n",
       "0  100001040173        R    4.250    453000       360  01/2018  03/2018    65   \n",
       "1  100002370993        C    4.250    266000       360  01/2018  03/2018    80   \n",
       "2  100005405807        R    3.990    233000       360  12/2017  01/2018    79   \n",
       "3  100008071646        R    4.250    184000       360  01/2018  03/2018    80   \n",
       "4  100010739040        R    4.250    242000       360  02/2018  04/2018    49   \n",
       "5  100012691523        R    5.375    180000       360  01/2018  03/2018    80   \n",
       "6  100020244091        R    4.875    140000       360  01/2018  03/2018    39   \n",
       "7  100020295408        R    4.875    150000       360  02/2018  04/2018    69   \n",
       "8  100021639708        R    3.990    227000       360  01/2018  03/2018    80   \n",
       "9  100022479643        C    4.000    200000       360  11/2017  01/2018    80   \n",
       "\n",
       "   OCLTV  NUM_BO  ...  NUM_UNIT  OCC_STAT STATE ZIP_3 MI_PCT  Product.Type  \\\n",
       "0   65.0       1  ...         1         P    OH   430    NaN           FRM   \n",
       "1   80.0       2  ...         1         P    IN   467    NaN           FRM   \n",
       "2   79.0       2  ...         1         P    CA   936    NaN           FRM   \n",
       "3   80.0       1  ...         1         P    FL   336    NaN           FRM   \n",
       "4   49.0       1  ...         1         P    CA   906    NaN           FRM   \n",
       "5   80.0       1  ...         1         P    OK   730    NaN           FRM   \n",
       "6   39.0       2  ...         1         P    PA   189    NaN           FRM   \n",
       "7   69.0       1  ...         1         P    TX   750    NaN           FRM   \n",
       "8   80.0       1  ...         1         P    CO   809    NaN           FRM   \n",
       "9   80.0       1  ...         1         P    MD   210    NaN           FRM   \n",
       "\n",
       "  CSCORE_C MI_TYPE  RELOCATION_FLG  Delq.Status_D90  \n",
       "0      NaN     NaN               N              0.0  \n",
       "1    793.0     NaN               N              0.0  \n",
       "2    665.0     NaN               N              0.0  \n",
       "3      NaN     NaN               N              0.0  \n",
       "4      NaN     NaN               N              0.0  \n",
       "5      NaN     NaN               N              0.0  \n",
       "6    782.0     NaN               N              0.0  \n",
       "7      NaN     NaN               N              0.0  \n",
       "8      NaN     NaN               N              0.0  \n",
       "9      NaN     NaN               N              0.0  \n",
       "\n",
       "[10 rows x 25 columns]"
      ]
     },
     "execution_count": 16,
     "metadata": {},
     "output_type": "execute_result"
    }
   ],
   "source": [
    "# Browse dataset\n",
    "df.head(10)"
   ]
  },
  {
   "cell_type": "code",
   "execution_count": null,
   "metadata": {},
   "outputs": [],
   "source": [
    "#Show summary stat\n",
    "df.describe()"
   ]
  },
  {
   "cell_type": "code",
   "execution_count": 28,
   "metadata": {},
   "outputs": [
    {
     "data": {
      "text/plain": [
       "LOAN_ID                 0\n",
       "ORIG_CHN                0\n",
       "ORIG_RT                 0\n",
       "ORIG_AMT                0\n",
       "ORIG_TRM                0\n",
       "ORIG_DTE                0\n",
       "FRST_DTE                0\n",
       "OLTV                    0\n",
       "OCLTV                   1\n",
       "NUM_BO                  0\n",
       "DTI                     0\n",
       "CSCORE_B              336\n",
       "FTHB_FLG                0\n",
       "PURPOSE                 0\n",
       "PROP_TYP                0\n",
       "NUM_UNIT                0\n",
       "OCC_STAT                0\n",
       "STATE                   0\n",
       "ZIP_3                   0\n",
       "MI_PCT             312106\n",
       "Product.Type            0\n",
       "CSCORE_C           235423\n",
       "MI_TYPE            312106\n",
       "RELOCATION_FLG          0\n",
       "Delq.Status_D90         0\n",
       "Credit_Score            0\n",
       "dtype: int64"
      ]
     },
     "execution_count": 28,
     "metadata": {},
     "output_type": "execute_result"
    }
   ],
   "source": [
    "# Count missing values by column \n",
    "df.isnull().sum()"
   ]
  },
  {
   "cell_type": "code",
   "execution_count": 23,
   "metadata": {},
   "outputs": [],
   "source": [
    "df['Credit_Score']=df[['CSCORE_B','CSCORE_C']].min(axis=1)"
   ]
  },
  {
   "cell_type": "code",
   "execution_count": 25,
   "metadata": {},
   "outputs": [],
   "source": [
    "df['DTI']=df['DTI'].fillna(df['DTI'].median())"
   ]
  },
  {
   "cell_type": "code",
   "execution_count": 27,
   "metadata": {},
   "outputs": [],
   "source": [
    "df['Credit_Score']=df['Credit_Score'].fillna(df['Credit_Score'].median())"
   ]
  },
  {
   "cell_type": "code",
   "execution_count": 24,
   "metadata": {},
   "outputs": [
    {
     "data": {
      "text/plain": [
       "Index(['LOAN_ID', 'ORIG_CHN', 'ORIG_RT', 'ORIG_AMT', 'ORIG_TRM', 'ORIG_DTE',\n",
       "       'FRST_DTE', 'OLTV', 'OCLTV', 'NUM_BO', 'DTI', 'CSCORE_B', 'FTHB_FLG',\n",
       "       'PURPOSE', 'PROP_TYP', 'NUM_UNIT', 'OCC_STAT', 'STATE', 'ZIP_3',\n",
       "       'MI_PCT', 'Product.Type', 'CSCORE_C', 'MI_TYPE', 'RELOCATION_FLG',\n",
       "       'Delq.Status_D90', 'Credit_Score'],\n",
       "      dtype='object')"
      ]
     },
     "execution_count": 24,
     "metadata": {},
     "output_type": "execute_result"
    }
   ],
   "source": [
    "df.columns"
   ]
  },
  {
   "cell_type": "code",
   "execution_count": 29,
   "metadata": {},
   "outputs": [],
   "source": [
    "# Explore Data \n",
    "## Numeric Variables\n",
    "continous_cols = ['ORIG_RT', 'ORIG_AMT','OLTV','Credit_Score','NUM_UNIT']"
   ]
  },
  {
   "cell_type": "code",
   "execution_count": 30,
   "metadata": {},
   "outputs": [],
   "source": [
    "X= df[continous_cols]\n",
    "y= df['Delq.Status_D90']"
   ]
  },
  {
   "cell_type": "code",
   "execution_count": 31,
   "metadata": {},
   "outputs": [],
   "source": [
    "#Logistic Regression model using sklearn\n",
    "import matplotlib.pyplot as plt\n",
    "import numpy as np\n",
    "from sklearn.datasets import load_digits\n",
    "from sklearn.linear_model import LogisticRegression\n",
    "from sklearn.metrics import classification_report, confusion_matrix\n",
    "from sklearn.model_selection import train_test_split\n",
    "from sklearn.preprocessing import StandardScaler\n",
    "\n",
    "X_train, X_test, y_train, y_test = train_test_split(X, y, test_size=0.2, random_state = 0)"
   ]
  },
  {
   "cell_type": "code",
   "execution_count": 93,
   "metadata": {},
   "outputs": [
    {
     "data": {
      "text/plain": [
       "LogisticRegressionCV(Cs=10, class_weight={0: 1.0, 1: 200.0}, cv=None,\n",
       "                     dual=False, fit_intercept=True, intercept_scaling=1.0,\n",
       "                     l1_ratios=None, max_iter=100, multi_class='auto',\n",
       "                     n_jobs=None, penalty='l2', random_state=None, refit=True,\n",
       "                     scoring=None, solver='lbfgs', tol=0.0001, verbose=0)"
      ]
     },
     "execution_count": 93,
     "metadata": {},
     "output_type": "execute_result"
    }
   ],
   "source": [
    "from sklearn.linear_model import LogisticRegressionCV\n",
    "weights = {0:1.0, 1:200.0}\n",
    "model = LogisticRegressionCV(10,class_weight=weights)\n",
    "model.fit(X_train, y_train)"
   ]
  },
  {
   "cell_type": "code",
   "execution_count": 94,
   "metadata": {},
   "outputs": [],
   "source": [
    "# Make prediction on the training data\n",
    "y_train_pred = model.predict(X_train)\n",
    "p_train_pred = model.predict_proba(X_train)[:,1]"
   ]
  },
  {
   "cell_type": "code",
   "execution_count": 95,
   "metadata": {},
   "outputs": [],
   "source": [
    "# Make predictions on test data\n",
    "y_test_pred = model.predict(X_test)\n",
    "p_test_pred = model.predict_proba(X_test)[:,1]"
   ]
  },
  {
   "cell_type": "code",
   "execution_count": 96,
   "metadata": {},
   "outputs": [],
   "source": [
    "#Calculate the metric scores for the model\n",
    "# Import metrics functions from sklearn\n",
    "from sklearn.metrics import precision_score, accuracy_score, recall_score, f1_score, roc_auc_score"
   ]
  },
  {
   "cell_type": "code",
   "execution_count": 97,
   "metadata": {},
   "outputs": [],
   "source": [
    "import pandas as pd\n",
    "# Helper method to print metric scores\n",
    "def get_performance_metrics(y_train, p_train_pred, y_test, p_test_pred, threshold=0.5):\n",
    "    metric_names = ['AUC','Accuracy','Precision','Recall','f1-score']\n",
    "    metric_values_train = [roc_auc_score(y_train, p_train_pred),\n",
    "                    accuracy_score(y_train, p_train_pred>threshold),\n",
    "                    precision_score(y_train, p_train_pred>threshold),\n",
    "                    recall_score(y_train, p_train_pred>threshold),\n",
    "                    f1_score(y_train, p_train_pred>threshold)\n",
    "                   ]\n",
    "    metric_values_test = [roc_auc_score(y_test, p_test_pred),\n",
    "                    accuracy_score(y_test, p_test_pred>threshold),\n",
    "                    precision_score(y_test, p_test_pred>threshold),\n",
    "                    recall_score(y_test, p_test_pred>threshold),\n",
    "                    f1_score(y_test, p_test_pred>threshold)\n",
    "                   ]\n",
    "    all_metrics = pd.DataFrame({'metrics':metric_names,\n",
    "                                'train':metric_values_train,\n",
    "                                'test':metric_values_test},columns=['metrics','train','test']).set_index('metrics')\n",
    "    print(all_metrics)"
   ]
  },
  {
   "cell_type": "code",
   "execution_count": 98,
   "metadata": {},
   "outputs": [],
   "source": [
    "%matplotlib inline\n",
    "import matplotlib.pyplot as plt\n",
    "from sklearn.metrics import roc_curve, auc\n",
    "\n",
    "def plot_roc_curve(y_train, p_train_pred, y_test, p_test_pred):\n",
    "    roc_auc_train = roc_auc_score(y_train, p_train_pred)\n",
    "    fpr_train, tpr_train, _ = roc_curve(y_train, p_train_pred)\n",
    "\n",
    "    roc_auc_test = roc_auc_score(y_test, p_test_pred)\n",
    "    fpr_test, tpr_test, _ = roc_curve(y_test, p_test_pred)\n",
    "    plt.figure()\n",
    "    lw = 2\n",
    "    plt.plot(fpr_train, tpr_train, color='green',\n",
    "             lw=lw, label='ROC Train (AUC = %0.4f)' % roc_auc_train)\n",
    "    plt.plot(fpr_test, tpr_test, color='darkorange',\n",
    "             lw=lw, label='ROC Test (AUC = %0.4f)' % roc_auc_test)\n",
    "    plt.plot([0, 1], [0, 1], color='navy', lw=lw, linestyle='--')\n",
    "    plt.xlim([0.0, 1.0])\n",
    "    plt.ylim([0.0, 1.05])\n",
    "    plt.xlabel('False Positive Rate')\n",
    "    plt.ylabel('True Positive Rate')\n",
    "    plt.title('Receiver operating characteristic example')\n",
    "    plt.legend(loc=\"lower right\")\n",
    "    plt.show()"
   ]
  },
  {
   "cell_type": "code",
   "execution_count": 99,
   "metadata": {},
   "outputs": [
    {
     "name": "stdout",
     "output_type": "stream",
     "text": [
      "              train      test\n",
      "metrics                      \n",
      "AUC        0.732818  0.739512\n",
      "Accuracy   0.515037  0.517268\n",
      "Precision  0.010640  0.011371\n",
      "Recall     0.783820  0.806838\n",
      "f1-score   0.020995  0.022427\n"
     ]
    },
    {
     "data": {
      "image/png": "[encoded data removed]",
      "text/plain": [
       "<Figure size 432x288 with 1 Axes>"
      ]
     },
     "metadata": {
      "needs_background": "light"
     },
     "output_type": "display_data"
    }
   ],
   "source": [
    "# print model results\n",
    "get_performance_metrics(y_train, p_train_pred, y_test, p_test_pred)\n",
    "plot_roc_curve(y_train, p_train_pred, y_test, p_test_pred)"
   ]
  },
  {
   "cell_type": "code",
   "execution_count": 100,
   "metadata": {},
   "outputs": [
    {
     "data": {
      "text/plain": [
       "Text(0.5, 257.44, 'Predicted label')"
      ]
     },
     "execution_count": 100,
     "metadata": {},
     "output_type": "execute_result"
    },
    {
     "data": {
      "image/png": "[encoded data removed]",
      "text/plain": [
       "<Figure size 432x288 with 2 Axes>"
      ]
     },
     "metadata": {
      "needs_background": "light"
     },
     "output_type": "display_data"
    }
   ],
   "source": [
    "# Make prediction on the training data\n",
    "y_train_pred_1 = model.predict(X_train)\n",
    "p_train_pred_1 = model.predict_proba(X_train)\n",
    "\n",
    "# Make predictions on test data\n",
    "y_test_pred_1 = model.predict(X_test)\n",
    "p_test_pred_1 = model.predict_proba(X_test)\n",
    "\n",
    "from sklearn import metrics\n",
    "cnf_matrix = metrics.confusion_matrix(y_train, y_train_pred_1)\n",
    "cnf_matrix\n",
    "\n",
    "# import required modules\n",
    "import numpy as np\n",
    "import matplotlib.pyplot as plt\n",
    "import seaborn as sns\n",
    "%matplotlib inline\n",
    "\n",
    "class_names=[0,1] # name  of classes\n",
    "fig, ax = plt.subplots()\n",
    "tick_marks = np.arange(len(class_names))\n",
    "plt.xticks(tick_marks, class_names)\n",
    "plt.yticks(tick_marks, class_names)\n",
    "# create heatmap\n",
    "sns.heatmap(pd.DataFrame(cnf_matrix), annot=True, cmap=\"YlGnBu\" ,fmt='g')\n",
    "ax.xaxis.set_label_position(\"top\")\n",
    "plt.tight_layout()\n",
    "plt.title('Confusion matrix', y=1.1)\n",
    "plt.ylabel('Actual label')\n",
    "plt.xlabel('Predicted label')"
   ]
  },
  {
   "cell_type": "code",
   "execution_count": 92,
   "metadata": {},
   "outputs": [
    {
     "data": {
      "text/html": [
       "<div>\n",
       "<style scoped>\n",
       "    .dataframe tbody tr th:only-of-type {\n",
       "        vertical-align: middle;\n",
       "    }\n",
       "\n",
       "    .dataframe tbody tr th {\n",
       "        vertical-align: top;\n",
       "    }\n",
       "\n",
       "    .dataframe thead th {\n",
       "        text-align: right;\n",
       "    }\n",
       "</style>\n",
       "<table border=\"1\" class=\"dataframe\">\n",
       "  <thead>\n",
       "    <tr style=\"text-align: right;\">\n",
       "      <th></th>\n",
       "      <th>0</th>\n",
       "      <th>0</th>\n",
       "    </tr>\n",
       "  </thead>\n",
       "  <tbody>\n",
       "    <tr>\n",
       "      <th>0</th>\n",
       "      <td>ORIG_RT</td>\n",
       "      <td>0.285169</td>\n",
       "    </tr>\n",
       "    <tr>\n",
       "      <th>1</th>\n",
       "      <td>ORIG_AMT</td>\n",
       "      <td>-0.000001</td>\n",
       "    </tr>\n",
       "    <tr>\n",
       "      <th>2</th>\n",
       "      <td>OLTV</td>\n",
       "      <td>0.037286</td>\n",
       "    </tr>\n",
       "    <tr>\n",
       "      <th>3</th>\n",
       "      <td>Credit_Score</td>\n",
       "      <td>-0.004223</td>\n",
       "    </tr>\n",
       "    <tr>\n",
       "      <th>4</th>\n",
       "      <td>NUM_UNIT</td>\n",
       "      <td>0.034809</td>\n",
       "    </tr>\n",
       "  </tbody>\n",
       "</table>\n",
       "</div>"
      ],
      "text/plain": [
       "              0         0\n",
       "0       ORIG_RT  0.285169\n",
       "1      ORIG_AMT -0.000001\n",
       "2          OLTV  0.037286\n",
       "3  Credit_Score -0.004223\n",
       "4      NUM_UNIT  0.034809"
      ]
     },
     "execution_count": 92,
     "metadata": {},
     "output_type": "execute_result"
    }
   ],
   "source": [
    "coefficients = pd.concat([pd.DataFrame(X.columns),pd.DataFrame(np.transpose(model.coef_))], axis = 1)\n",
    "coefficients"
   ]
  },
  {
   "cell_type": "code",
   "execution_count": null,
   "metadata": {},
   "outputs": [],
   "source": []
  }
 ],
 "metadata": {
  "kernelspec": {
   "display_name": "Python 3",
   "language": "python",
   "name": "python3"
  },
  "language_info": {
   "codemirror_mode": {
    "name": "ipython",
    "version": 3
   },
   "file_extension": ".py",
   "mimetype": "text/x-python",
   "name": "python",
   "nbconvert_exporter": "python",
   "pygments_lexer": "ipython3",
   "version": "3.7.3"
  }
 },
 "nbformat": 4,
 "nbformat_minor": 4
}
