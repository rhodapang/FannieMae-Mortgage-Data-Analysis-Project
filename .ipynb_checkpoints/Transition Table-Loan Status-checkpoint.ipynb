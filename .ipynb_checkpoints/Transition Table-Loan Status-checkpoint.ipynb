{
 "cells": [
  {
   "cell_type": "code",
   "execution_count": 3,
   "metadata": {},
   "outputs": [],
   "source": [
    "import pandas as pd\n",
    "from pandas import Series, DataFrame\n",
    "import numpy as np\n",
    "import matplotlib.pyplot as plt\n",
    "import seaborn as sns\n",
    "plt.rc('figure', figsize = (10,6))\n",
    "np.set_printoptions(precision = 4, suppress = True)"
   ]
  },
  {
   "cell_type": "code",
   "execution_count": null,
   "metadata": {},
   "outputs": [],
   "source": [
    "# Import two datasets\n",
    "colnames = [\"LOAN_ID\", \"ORIG_CHN\", \"Seller.Name\", \"ORIG_RT\", \"ORIG_AMT\", \"ORIG_TRM\", \"ORIG_DTE\",\"FRST_DTE\", \"OLTV\", \n",
    "            \"OCLTV\", \"NUM_BO\", \"DTI\", \"CSCORE_B\", \"FTHB_FLG\", \"PURPOSE\", \"PROP_TYP\",\"NUM_UNIT\", \"OCC_STAT\", \n",
    "            \"STATE\", \"ZIP_3\", \"MI_PCT\", \"Product.Type\", \"CSCORE_C\", \"MI_TYPE\", \"RELOCATION_FLG\"]\n",
    "Data_A = pd.read_table('D:/1-Intern/Project_1/2018Q1/Acquisition_2018Q1.txt', \n",
    "                       sep = '|', header = None, names = colnames)\n",
    "colnames_P = [\"LOAN_ID\", \"Monthly.Rpt.Prd\", \"Servicer.Name\", \"LAST_RT\", \"LAST_UPB\", \"Loan.Age\", \"Months.To.Legal.Mat\", \n",
    "              \"Adj.Month.To.Mat\", \"Maturity.Date\", \"MSA\", \"Delq.Status\", \"MOD_FLAG\", \"Zero.Bal.Code\", \n",
    "              \"ZB_DTE\", \"LPI_DTE\", \"FCC_DTE\",\"DISP_DT\", \"FCC_COST\", \"PP_COST\", \"AR_COST\", \"IE_COST\", \"TAX_COST\", \"NS_PROCS\",\n",
    "              \"CE_PROCS\", \"RMW_PROCS\", \"O_PROCS\", \"NON_INT_UPB\", \"PRIN_FORG_UPB_FHFA\", \"REPCH_FLAG\", \"PRIN_FORG_UPB_OTH\", \"TRANSFER_FLG\"]\n",
    "Data_P = pd.read_table('D:/1-Intern/Project_1/2018Q1/Performance_2018Q1.txt', \n",
    "                       sep = '|', header = None, names = colnames_P,low_memory=False)"
   ]
  },
  {
   "cell_type": "code",
   "execution_count": null,
   "metadata": {},
   "outputs": [],
   "source": [
    "df = pd.merge(Data_A.loc[:,[\"LOAN_ID\", \"ORIG_CHN\",\"ORIG_RT\", \"ORIG_AMT\", \"ORIG_TRM\", \"OLTV\", \"DTI\", \"CSCORE_B\", \"FTHB_FLG\",\"STATE\" ]],\n",
    "              Data_P.loc[:,[\"LOAN_ID\", \"Monthly.Rpt.Prd\", \"LAST_RT\", \"LAST_UPB\",\"Delq.Status\", \"MOD_FLAG\", \"Zero.Bal.Code\", \"ZB_DTE\", \"FCC_DTE\"]] , on = 'LOAN_ID')"
   ]
  },
  {
   "cell_type": "code",
   "execution_count": 116,
   "metadata": {},
   "outputs": [
    {
     "data": {
      "text/plain": [
       "(426206, 24)"
      ]
     },
     "execution_count": 116,
     "metadata": {},
     "output_type": "execute_result"
    }
   ],
   "source": [
    "df.shape"
   ]
  },
  {
   "cell_type": "code",
   "execution_count": 11,
   "metadata": {},
   "outputs": [],
   "source": [
    "# Convert string into datetime\n",
    "from datetime import datetime\n",
    "df['Monthly.Rpt.Prd'] = [datetime.strptime(x, '%m/%d/%Y') for x in df.loc[:,'Monthly.Rpt.Prd']]"
   ]
  },
  {
   "cell_type": "code",
   "execution_count": 12,
   "metadata": {
    "scrolled": true
   },
   "outputs": [
    {
     "data": {
      "text/plain": [
       "LOAN_ID                     int64\n",
       "ORIG_RT                   float64\n",
       "ORIG_AMT                    int64\n",
       "ORIG_TRM                    int64\n",
       "OLTV                        int64\n",
       "DTI                       float64\n",
       "CSCORE_B                  float64\n",
       "FTHB_FLG                   object\n",
       "STATE                      object\n",
       "Monthly.Rpt.Prd    datetime64[ns]\n",
       "LAST_RT                   float64\n",
       "LAST_UPB                  float64\n",
       "Delq.Status                object\n",
       "MOD_FLAG                   object\n",
       "Zero.Bal.Code             float64\n",
       "ZB_DTE                     object\n",
       "FCC_DTE                    object\n",
       "dtype: object"
      ]
     },
     "execution_count": 12,
     "metadata": {},
     "output_type": "execute_result"
    }
   ],
   "source": [
    "df.dtypes"
   ]
  },
  {
   "cell_type": "code",
   "execution_count": 16,
   "metadata": {},
   "outputs": [
    {
     "data": {
      "text/plain": [
       "0      9187791\n",
       "X        68114\n",
       "1        52514\n",
       "2         9927\n",
       "4+        9424\n",
       "3         4143\n",
       "NaN        137\n",
       "Name: Delq.Status_Coding, dtype: int64"
      ]
     },
     "execution_count": 16,
     "metadata": {},
     "output_type": "execute_result"
    }
   ],
   "source": [
    "# coding Delinquncy status into 0,1,2,3,4+ categories\n",
    "df['Delq.Status_Coding'] = df['Delq.Status'].replace(['4','5','6','7','8','9','10','11','12','13',\n",
    "                                                      '14','15','16','17','18','19','20','21','22'], '4+')\n",
    "# Understand how many categories in Delinquency status\n",
    "df['Delq.Status_Coding'].value_counts(dropna=False)"
   ]
  },
  {
   "cell_type": "code",
   "execution_count": 15,
   "metadata": {},
   "outputs": [
    {
     "data": {
      "text/plain": [
       "0      9187791\n",
       "X        68114\n",
       "1        52514\n",
       "2         9927\n",
       "3         4143\n",
       "4         2669\n",
       "5         2016\n",
       "6         1336\n",
       "7          941\n",
       "8          648\n",
       "9          446\n",
       "10         375\n",
       "11         274\n",
       "12         199\n",
       "13         158\n",
       "NaN        137\n",
       "14         119\n",
       "15          96\n",
       "16          51\n",
       "17          38\n",
       "18          24\n",
       "19          16\n",
       "20          11\n",
       "21           5\n",
       "22           2\n",
       "Name: Delq.Status, dtype: int64"
      ]
     },
     "execution_count": 15,
     "metadata": {},
     "output_type": "execute_result"
    }
   ],
   "source": [
    "df['Delq.Status'].value_counts(dropna=False)"
   ]
  },
  {
   "cell_type": "code",
   "execution_count": 17,
   "metadata": {},
   "outputs": [
    {
     "data": {
      "text/plain": [
       "NaN     9263800\n",
       "1.0       67775\n",
       "6.0         326\n",
       "9.0          89\n",
       "2.0          31\n",
       "16.0         12\n",
       "3.0          12\n",
       "15.0          5\n",
       "Name: Zero.Bal.Code, dtype: int64"
      ]
     },
     "execution_count": 17,
     "metadata": {},
     "output_type": "execute_result"
    }
   ],
   "source": [
    "df['Zero.Bal.Code'].value_counts(dropna=False)"
   ]
  },
  {
   "cell_type": "code",
   "execution_count": 18,
   "metadata": {},
   "outputs": [
    {
     "data": {
      "text/plain": [
       "Delq.Status_Coding  Zero.Bal.Code\n",
       "X                   1.0              67775\n",
       "                    6.0                326\n",
       "                    16.0                12\n",
       "dtype: int64"
      ]
     },
     "execution_count": 18,
     "metadata": {},
     "output_type": "execute_result"
    }
   ],
   "source": [
    "#From the below result, we coukd know that only when delinquency status is unknown, Zero Balance code is denoted\n",
    "df.groupby(['Delq.Status_Coding','Zero.Bal.Code']).size()"
   ]
  },
  {
   "cell_type": "code",
   "execution_count": 19,
   "metadata": {},
   "outputs": [],
   "source": [
    "# coding FCC as 'F'\n",
    "df['FCC_DTE_Coding'] = df['FCC_DTE'].replace(['10/01/2019', '05/01/2019', '08/01/2019', '12/01/2018',\n",
    "       '04/01/2019', '07/01/2019', '01/01/2019', '09/01/2019',\n",
    "       '06/01/2019', '12/01/2019', '11/01/2018', '03/01/2019',\n",
    "       '02/01/2019', '11/01/2019', '10/01/2018', '07/01/2018'],'F')"
   ]
  },
  {
   "cell_type": "code",
   "execution_count": 20,
   "metadata": {},
   "outputs": [
    {
     "data": {
      "text/plain": [
       "NaN    9331924\n",
       "F          126\n",
       "Name: FCC_DTE_Coding, dtype: int64"
      ]
     },
     "execution_count": 20,
     "metadata": {},
     "output_type": "execute_result"
    }
   ],
   "source": [
    "df['FCC_DTE_Coding'].value_counts(dropna=False)"
   ]
  },
  {
   "cell_type": "code",
   "execution_count": 21,
   "metadata": {},
   "outputs": [
    {
     "data": {
      "text/plain": [
       "FCC_DTE_Coding  Zero.Bal.Code\n",
       "F               2.0              31\n",
       "                3.0               9\n",
       "                9.0              86\n",
       "dtype: int64"
      ]
     },
     "execution_count": 21,
     "metadata": {},
     "output_type": "execute_result"
    }
   ],
   "source": [
    "# From below result, we know that Foreclosure only shows when loans denoted as 2.0, 3.0, 9.0. \n",
    "\n",
    "df.groupby(['FCC_DTE_Coding','Zero.Bal.Code']).size()"
   ]
  },
  {
   "cell_type": "code",
   "execution_count": 22,
   "metadata": {},
   "outputs": [
    {
     "data": {
      "text/plain": [
       "Series([], dtype: int64)"
      ]
     },
     "execution_count": 22,
     "metadata": {},
     "output_type": "execute_result"
    }
   ],
   "source": [
    "# In addition, when 'Delq.Status_Coding' shows, Foreclosure would not be come up. they totally exlusive. Combined with result above, \n",
    "# we could just denote 2.0, 3.0, 9.0. as 'F'\n",
    "df.groupby(['FCC_DTE_Coding','Delq.Status_Coding']).size()"
   ]
  },
  {
   "cell_type": "code",
   "execution_count": 23,
   "metadata": {},
   "outputs": [],
   "source": [
    "df['Zero.Bal.Code']=df['Zero.Bal.Code'].replace([2.0, 3.0, 9.0],'F')"
   ]
  },
  {
   "cell_type": "code",
   "execution_count": 24,
   "metadata": {},
   "outputs": [
    {
     "data": {
      "text/plain": [
       "NaN     9263800\n",
       "1.0       67775\n",
       "6.0         326\n",
       "F           132\n",
       "16.0         12\n",
       "15.0          5\n",
       "Name: Zero.Bal.Code, dtype: int64"
      ]
     },
     "execution_count": 24,
     "metadata": {},
     "output_type": "execute_result"
    }
   ],
   "source": [
    "df['Zero.Bal.Code'].value_counts(dropna=False)"
   ]
  },
  {
   "cell_type": "code",
   "execution_count": 25,
   "metadata": {},
   "outputs": [
    {
     "data": {
      "text/plain": [
       "0     9187791\n",
       "X       68114\n",
       "1       52514\n",
       "2        9927\n",
       "4+       9424\n",
       "3        4143\n",
       "Name: Delq.Status_Coding, dtype: int64"
      ]
     },
     "execution_count": 25,
     "metadata": {},
     "output_type": "execute_result"
    }
   ],
   "source": [
    "df['Delq.Status_Coding'].value_counts()"
   ]
  },
  {
   "cell_type": "code",
   "execution_count": 26,
   "metadata": {},
   "outputs": [],
   "source": [
    "conditions = [\n",
    "    df['Delq.Status_Coding']== '0' ,\n",
    "    df['Delq.Status_Coding']== '1',\n",
    "    df['Delq.Status_Coding']== '2',\n",
    "    df['Delq.Status_Coding']== '3',\n",
    "    df['Delq.Status_Coding']== '4+',\n",
    "    ((pd.isna(df['Delq.Status_Coding']))& (df['Zero.Bal.Code']== 'F' )),\n",
    "    ((df['Delq.Status_Coding']=='X' )& (df['Zero.Bal.Code']== 1.0 )),\n",
    "    ((df['Delq.Status_Coding']=='X' )& (df['Zero.Bal.Code']== 6.0 )),\n",
    "    ((df['Delq.Status_Coding']=='X' )& (df['Zero.Bal.Code']== 16.0 )),\n",
    "    ((df['Delq.Status_Coding']=='X' )& (pd.isna(df['Zero.Bal.Code']))),\n",
    "    ((pd.isna(df['Delq.Status_Coding']))& (df['Zero.Bal.Code']== 15.0))\n",
    "]"
   ]
  },
  {
   "cell_type": "code",
   "execution_count": 27,
   "metadata": {},
   "outputs": [],
   "source": [
    "choises = ['0','1','2','3','4+','F','P','Other','Other','Other','Other']"
   ]
  },
  {
   "cell_type": "code",
   "execution_count": 28,
   "metadata": {},
   "outputs": [],
   "source": [
    "df['Loan_Status'] = np.select(condlist=conditions, choicelist = choises)"
   ]
  },
  {
   "cell_type": "code",
   "execution_count": 19,
   "metadata": {},
   "outputs": [
    {
     "data": {
      "text/plain": [
       "0        9187791\n",
       "P          67775\n",
       "1          52514\n",
       "2           9927\n",
       "4+          9424\n",
       "3           4143\n",
       "Other        344\n",
       "F            132\n",
       "Name: Loan_Status, dtype: int64"
      ]
     },
     "execution_count": 19,
     "metadata": {},
     "output_type": "execute_result"
    }
   ],
   "source": [
    "df['Loan_Status'].value_counts()"
   ]
  },
  {
   "cell_type": "code",
   "execution_count": 29,
   "metadata": {},
   "outputs": [],
   "source": [
    "df = df.pivot('LOAN_ID','Monthly.Rpt.Prd','Loan_Status')"
   ]
  },
  {
   "cell_type": "code",
   "execution_count": 23,
   "metadata": {},
   "outputs": [
    {
     "data": {
      "text/plain": [
       "<bound method NDFrame.head of Monthly.Rpt.Prd 2018-01-01 2018-02-01 2018-03-01 2018-04-01 2018-05-01  \\\n",
       "LOAN_ID                                                                  \n",
       "100001040173           NaN          0          0          0          0   \n",
       "100002370993           NaN        NaN          0          0          0   \n",
       "100005405807             0          0          0          0          0   \n",
       "100008071646           NaN        NaN          0          0          0   \n",
       "100010739040           NaN          0          0          0          0   \n",
       "...                    ...        ...        ...        ...        ...   \n",
       "999991303485             0          0          0          0          0   \n",
       "999992661330           NaN          0          0          0          0   \n",
       "999995056050           NaN          0          0          0          0   \n",
       "999997685206           NaN        NaN          0          0          0   \n",
       "999998783494           NaN          0          0          0          0   \n",
       "\n",
       "Monthly.Rpt.Prd 2018-06-01 2018-07-01 2018-08-01 2018-09-01 2018-10-01  ...  \\\n",
       "LOAN_ID                                                                 ...   \n",
       "100001040173             0          0          0          0          0  ...   \n",
       "100002370993             0          0          0          0          0  ...   \n",
       "100005405807             0          0          0          0          0  ...   \n",
       "100008071646             0          0          0          0          0  ...   \n",
       "100010739040             0          0          0          0          0  ...   \n",
       "...                    ...        ...        ...        ...        ...  ...   \n",
       "999991303485             0          0          0          0          0  ...   \n",
       "999992661330             0          0          0          0          0  ...   \n",
       "999995056050             0          0          0          0          0  ...   \n",
       "999997685206             0          0          0          0          0  ...   \n",
       "999998783494             0          0          0          0          0  ...   \n",
       "\n",
       "Monthly.Rpt.Prd 2019-03-01 2019-04-01 2019-05-01 2019-06-01 2019-07-01  \\\n",
       "LOAN_ID                                                                  \n",
       "100001040173             0          0          0          0          0   \n",
       "100002370993             0          0          0          0          0   \n",
       "100005405807             0          0          0          0          0   \n",
       "100008071646             0          0          0          0          0   \n",
       "100010739040             0          0          0          0          0   \n",
       "...                    ...        ...        ...        ...        ...   \n",
       "999991303485             0          0          0          0          0   \n",
       "999992661330             0          0          0          0          0   \n",
       "999995056050             0          0          0          0          0   \n",
       "999997685206             0          0          0          0          0   \n",
       "999998783494             0          0          0          0          0   \n",
       "\n",
       "Monthly.Rpt.Prd 2019-08-01 2019-09-01 2019-10-01 2019-11-01 2019-12-01  \n",
       "LOAN_ID                                                                 \n",
       "100001040173             0          0          0          0          0  \n",
       "100002370993             0          0          0          0          0  \n",
       "100005405807             0          0          0          0          0  \n",
       "100008071646             0          0          0          0          0  \n",
       "100010739040             0          0          0          0          0  \n",
       "...                    ...        ...        ...        ...        ...  \n",
       "999991303485             0          0          0          0          0  \n",
       "999992661330             0          0          0          0          0  \n",
       "999995056050             0          0          0          0          0  \n",
       "999997685206             0          0          0          0          0  \n",
       "999998783494             0          0          0          0          0  \n",
       "\n",
       "[426206 rows x 24 columns]>"
      ]
     },
     "execution_count": 23,
     "metadata": {},
     "output_type": "execute_result"
    }
   ],
   "source": [
    "df.head"
   ]
  },
  {
   "cell_type": "code",
   "execution_count": 30,
   "metadata": {},
   "outputs": [
    {
     "data": {
      "text/html": [
       "<div>\n",
       "<style scoped>\n",
       "    .dataframe tbody tr th:only-of-type {\n",
       "        vertical-align: middle;\n",
       "    }\n",
       "\n",
       "    .dataframe tbody tr th {\n",
       "        vertical-align: top;\n",
       "    }\n",
       "\n",
       "    .dataframe thead th {\n",
       "        text-align: right;\n",
       "    }\n",
       "</style>\n",
       "<table border=\"1\" class=\"dataframe\">\n",
       "  <thead>\n",
       "    <tr style=\"text-align: right;\">\n",
       "      <th>2018-02-01 00:00:00</th>\n",
       "      <th>0</th>\n",
       "      <th>1</th>\n",
       "      <th>2</th>\n",
       "      <th>Other</th>\n",
       "      <th>P</th>\n",
       "      <th>All</th>\n",
       "    </tr>\n",
       "    <tr>\n",
       "      <th>2018-01-01 00:00:00</th>\n",
       "      <th></th>\n",
       "      <th></th>\n",
       "      <th></th>\n",
       "      <th></th>\n",
       "      <th></th>\n",
       "      <th></th>\n",
       "    </tr>\n",
       "  </thead>\n",
       "  <tbody>\n",
       "    <tr>\n",
       "      <th>0</th>\n",
       "      <td>153320</td>\n",
       "      <td>903</td>\n",
       "      <td>1</td>\n",
       "      <td>1</td>\n",
       "      <td>225</td>\n",
       "      <td>154450</td>\n",
       "    </tr>\n",
       "    <tr>\n",
       "      <th>1</th>\n",
       "      <td>84</td>\n",
       "      <td>7</td>\n",
       "      <td>9</td>\n",
       "      <td>0</td>\n",
       "      <td>0</td>\n",
       "      <td>100</td>\n",
       "    </tr>\n",
       "    <tr>\n",
       "      <th>All</th>\n",
       "      <td>293478</td>\n",
       "      <td>983</td>\n",
       "      <td>10</td>\n",
       "      <td>1</td>\n",
       "      <td>225</td>\n",
       "      <td>426206</td>\n",
       "    </tr>\n",
       "  </tbody>\n",
       "</table>\n",
       "</div>"
      ],
      "text/plain": [
       "2018-02-01 00:00:00       0    1   2  Other    P     All\n",
       "2018-01-01 00:00:00                                     \n",
       "0                    153320  903   1      1  225  154450\n",
       "1                        84    7   9      0    0     100\n",
       "All                  293478  983  10      1  225  426206"
      ]
     },
     "execution_count": 30,
     "metadata": {},
     "output_type": "execute_result"
    }
   ],
   "source": [
    "table_1 = pd.crosstab(df['2018-01-01'],df['2018-02-01'], margins=True)\n",
    "table_1  "
   ]
  },
  {
   "cell_type": "code",
   "execution_count": 59,
   "metadata": {},
   "outputs": [
    {
     "data": {
      "text/html": [
       "<style  type=\"text/css\" >\n",
       "    #T_f4617e42_ba76_11ea_98dd_00f48dd47748row0_col0 {\n",
       "            background-color:  #08306b;\n",
       "            color:  #f1f1f1;\n",
       "        }    #T_f4617e42_ba76_11ea_98dd_00f48dd47748row0_col1 {\n",
       "            background-color:  #f6faff;\n",
       "            color:  #000000;\n",
       "        }    #T_f4617e42_ba76_11ea_98dd_00f48dd47748row0_col2 {\n",
       "            background-color:  #f7fbff;\n",
       "            color:  #000000;\n",
       "        }    #T_f4617e42_ba76_11ea_98dd_00f48dd47748row0_col3 {\n",
       "            background-color:  #f7fbff;\n",
       "            color:  #000000;\n",
       "        }    #T_f4617e42_ba76_11ea_98dd_00f48dd47748row0_col4 {\n",
       "            background-color:  #f7fbff;\n",
       "            color:  #000000;\n",
       "        }    #T_f4617e42_ba76_11ea_98dd_00f48dd47748row1_col0 {\n",
       "            background-color:  #0e58a2;\n",
       "            color:  #f1f1f1;\n",
       "        }    #T_f4617e42_ba76_11ea_98dd_00f48dd47748row1_col1 {\n",
       "            background-color:  #e9f2fa;\n",
       "            color:  #000000;\n",
       "        }    #T_f4617e42_ba76_11ea_98dd_00f48dd47748row1_col2 {\n",
       "            background-color:  #e5eff9;\n",
       "            color:  #000000;\n",
       "        }    #T_f4617e42_ba76_11ea_98dd_00f48dd47748row1_col3 {\n",
       "            background-color:  #f7fbff;\n",
       "            color:  #000000;\n",
       "        }    #T_f4617e42_ba76_11ea_98dd_00f48dd47748row1_col4 {\n",
       "            background-color:  #f7fbff;\n",
       "            color:  #000000;\n",
       "        }    #T_f4617e42_ba76_11ea_98dd_00f48dd47748row2_col0 {\n",
       "            background-color:  #08306b;\n",
       "            color:  #f1f1f1;\n",
       "        }    #T_f4617e42_ba76_11ea_98dd_00f48dd47748row2_col1 {\n",
       "            background-color:  #f6faff;\n",
       "            color:  #000000;\n",
       "        }    #T_f4617e42_ba76_11ea_98dd_00f48dd47748row2_col2 {\n",
       "            background-color:  #f7fbff;\n",
       "            color:  #000000;\n",
       "        }    #T_f4617e42_ba76_11ea_98dd_00f48dd47748row2_col3 {\n",
       "            background-color:  #f7fbff;\n",
       "            color:  #000000;\n",
       "        }    #T_f4617e42_ba76_11ea_98dd_00f48dd47748row2_col4 {\n",
       "            background-color:  #f7fbff;\n",
       "            color:  #000000;\n",
       "        }</style><table id=\"T_f4617e42_ba76_11ea_98dd_00f48dd47748\" ><thead>    <tr>        <th class=\"index_name level0\" >2018-02-01 00:00:00</th>        <th class=\"col_heading level0 col0\" >0</th>        <th class=\"col_heading level0 col1\" >1</th>        <th class=\"col_heading level0 col2\" >2</th>        <th class=\"col_heading level0 col3\" >Other</th>        <th class=\"col_heading level0 col4\" >P</th>    </tr>    <tr>        <th class=\"index_name level0\" >2018-01-01 00:00:00</th>        <th class=\"blank\" ></th>        <th class=\"blank\" ></th>        <th class=\"blank\" ></th>        <th class=\"blank\" ></th>        <th class=\"blank\" ></th>    </tr></thead><tbody>\n",
       "                <tr>\n",
       "                        <th id=\"T_f4617e42_ba76_11ea_98dd_00f48dd47748level0_row0\" class=\"row_heading level0 row0\" >0</th>\n",
       "                        <td id=\"T_f4617e42_ba76_11ea_98dd_00f48dd47748row0_col0\" class=\"data row0 col0\" >0.992684</td>\n",
       "                        <td id=\"T_f4617e42_ba76_11ea_98dd_00f48dd47748row0_col1\" class=\"data row0 col1\" >0.005847</td>\n",
       "                        <td id=\"T_f4617e42_ba76_11ea_98dd_00f48dd47748row0_col2\" class=\"data row0 col2\" >0.000006</td>\n",
       "                        <td id=\"T_f4617e42_ba76_11ea_98dd_00f48dd47748row0_col3\" class=\"data row0 col3\" >0.000006</td>\n",
       "                        <td id=\"T_f4617e42_ba76_11ea_98dd_00f48dd47748row0_col4\" class=\"data row0 col4\" >0.001457</td>\n",
       "            </tr>\n",
       "            <tr>\n",
       "                        <th id=\"T_f4617e42_ba76_11ea_98dd_00f48dd47748level0_row1\" class=\"row_heading level0 row1\" >1</th>\n",
       "                        <td id=\"T_f4617e42_ba76_11ea_98dd_00f48dd47748row1_col0\" class=\"data row1 col0\" >0.840000</td>\n",
       "                        <td id=\"T_f4617e42_ba76_11ea_98dd_00f48dd47748row1_col1\" class=\"data row1 col1\" >0.070000</td>\n",
       "                        <td id=\"T_f4617e42_ba76_11ea_98dd_00f48dd47748row1_col2\" class=\"data row1 col2\" >0.090000</td>\n",
       "                        <td id=\"T_f4617e42_ba76_11ea_98dd_00f48dd47748row1_col3\" class=\"data row1 col3\" >0.000000</td>\n",
       "                        <td id=\"T_f4617e42_ba76_11ea_98dd_00f48dd47748row1_col4\" class=\"data row1 col4\" >0.000000</td>\n",
       "            </tr>\n",
       "            <tr>\n",
       "                        <th id=\"T_f4617e42_ba76_11ea_98dd_00f48dd47748level0_row2\" class=\"row_heading level0 row2\" >All</th>\n",
       "                        <td id=\"T_f4617e42_ba76_11ea_98dd_00f48dd47748row2_col0\" class=\"data row2 col0\" >0.992585</td>\n",
       "                        <td id=\"T_f4617e42_ba76_11ea_98dd_00f48dd47748row2_col1\" class=\"data row2 col1\" >0.005888</td>\n",
       "                        <td id=\"T_f4617e42_ba76_11ea_98dd_00f48dd47748row2_col2\" class=\"data row2 col2\" >0.000065</td>\n",
       "                        <td id=\"T_f4617e42_ba76_11ea_98dd_00f48dd47748row2_col3\" class=\"data row2 col3\" >0.000006</td>\n",
       "                        <td id=\"T_f4617e42_ba76_11ea_98dd_00f48dd47748row2_col4\" class=\"data row2 col4\" >0.001456</td>\n",
       "            </tr>\n",
       "    </tbody></table>"
      ],
      "text/plain": [
       "<pandas.io.formats.style.Styler at 0x1d893735c18>"
      ]
     },
     "execution_count": 59,
     "metadata": {},
     "output_type": "execute_result"
    }
   ],
   "source": [
    "table_1_P = pd.crosstab(df['2018-01-01'],df['2018-02-01'], normalize='index',margins=True)\n",
    "table_1_P.style.background_gradient(cmap='Blues',axis=None) \n"
   ]
  }
 ],
 "metadata": {
  "kernelspec": {
   "display_name": "Python 3",
   "language": "python",
   "name": "python3"
  },
  "language_info": {
   "codemirror_mode": {
    "name": "ipython",
    "version": 3
   },
   "file_extension": ".py",
   "mimetype": "text/x-python",
   "name": "python",
   "nbconvert_exporter": "python",
   "pygments_lexer": "ipython3",
   "version": "3.7.3"
  },
  "toc": {
   "base_numbering": 1,
   "nav_menu": {},
   "number_sections": true,
   "sideBar": true,
   "skip_h1_title": false,
   "title_cell": "Table of Contents",
   "title_sidebar": "Contents",
   "toc_cell": false,
   "toc_position": {},
   "toc_section_display": true,
   "toc_window_display": false
  }
 },
 "nbformat": 4,
 "nbformat_minor": 4
}
