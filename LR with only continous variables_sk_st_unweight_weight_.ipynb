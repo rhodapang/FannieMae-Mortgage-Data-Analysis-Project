{
 "cells": [
  {
   "cell_type": "code",
   "execution_count": 1,
   "metadata": {},
   "outputs": [],
   "source": [
    "import pandas as pd\n",
    "from pandas import Series, DataFrame\n",
    "import numpy as np\n",
    "import matplotlib.pyplot as plt\n",
    "import seaborn as sns\n",
    "%matplotlib inline\n",
    "plt.style.use('ggplot')"
   ]
  },
  {
   "cell_type": "code",
   "execution_count": 2,
   "metadata": {},
   "outputs": [],
   "source": [
    "# Import two datesets \n",
    "colnames = [\"LOAN_ID\", \"ORIG_CHN\", \"Seller.Name\", \"ORIG_RT\", \"ORIG_AMT\", \"ORIG_TRM\", \"ORIG_DTE\",\"FRST_DTE\", \"OLTV\", \n",
    "            \"OCLTV\", \"NUM_BO\", \"DTI\", \"CSCORE_B\", \"FTHB_FLG\", \"PURPOSE\", \"PROP_TYP\",\"NUM_UNIT\", \"OCC_STAT\", \n",
    "            \"STATE\", \"ZIP_3\", \"MI_PCT\", \"Product.Type\", \"CSCORE_C\", \"MI_TYPE\", \"RELOCATION_FLG\"]\n",
    "Data_A = pd.read_table('D:/1-Intern/Project_1/2018Q1/Acquisition_2018Q1.txt', \n",
    "                       sep = '|', header = None, names = colnames)\n",
    "colnames_P = [\"LOAN_ID\", \"Monthly.Rpt.Prd\", \"Servicer.Name\", \"LAST_RT\", \"LAST_UPB\", \"Loan.Age\", \"Months.To.Legal.Mat\", \n",
    "              \"Adj.Month.To.Mat\", \"Maturity.Date\", \"MSA\", \"Delq.Status\", \"MOD_FLAG\", \"Zero.Bal.Code\", \n",
    "              \"ZB_DTE\", \"LPI_DTE\", \"FCC_DTE\",\"DISP_DT\", \"FCC_COST\", \"PP_COST\", \"AR_COST\", \"IE_COST\", \"TAX_COST\", \"NS_PROCS\",\n",
    "              \"CE_PROCS\", \"RMW_PROCS\", \"O_PROCS\", \"NON_INT_UPB\", \"PRIN_FORG_UPB_FHFA\", \"REPCH_FLAG\", \"PRIN_FORG_UPB_OTH\", \"TRANSFER_FLG\"]\n",
    "Data_P = pd.read_table('D:/1-Intern/Project_1/2018Q1/Performance_2018Q1.txt', \n",
    "                       sep = '|', header = None, names = colnames_P,low_memory=False)"
   ]
  },
  {
   "cell_type": "code",
   "execution_count": 3,
   "metadata": {},
   "outputs": [],
   "source": [
    "# Convert string into datetime\n",
    "from datetime import datetime \n",
    "Data_P['Monthly.Rpt.Prd']= [datetime.strptime(x, '%m/%d/%Y') for x in Data_P.loc[:, 'Monthly.Rpt.Prd']]"
   ]
  },
  {
   "cell_type": "code",
   "execution_count": 8,
   "metadata": {},
   "outputs": [
    {
     "data": {
      "text/plain": [
       "0    9318346\n",
       "1      13567\n",
       "Name: Delq.Status_D90, dtype: int64"
      ]
     },
     "execution_count": 8,
     "metadata": {},
     "output_type": "execute_result"
    }
   ],
   "source": [
    "Data_P['Delq.Status_D90']= Data_P['Delq.Status'].replace(['1','2','X'], '0')\n",
    "Data_P['Delq.Status_D90'] = Data_P['Delq.Status_D90'].replace(['3','4','5','6','7','8','9','10','11','12',\n",
    "                                                     '13','14','15','16','17','18','19','20','21','22'], '1')\n",
    "Data_P['Delq.Status_D90'].value_counts()"
   ]
  },
  {
   "cell_type": "code",
   "execution_count": 9,
   "metadata": {},
   "outputs": [],
   "source": [
    "Data_P['Delq.Status_D90']=pd.to_numeric(Data_P['Delq.Status_D90'])"
   ]
  },
  {
   "cell_type": "code",
   "execution_count": 11,
   "metadata": {
    "collapsed": true
   },
   "outputs": [
    {
     "data": {
      "text/plain": [
       "0.0     423359\n",
       "1.0        636\n",
       "2.0        374\n",
       "4.0        337\n",
       "3.0        283\n",
       "5.0        265\n",
       "6.0        206\n",
       "8.0        162\n",
       "7.0        151\n",
       "9.0        104\n",
       "11.0        75\n",
       "10.0        74\n",
       "12.0        45\n",
       "13.0        40\n",
       "14.0        25\n",
       "16.0        20\n",
       "15.0        20\n",
       "18.0        13\n",
       "17.0        10\n",
       "20.0         4\n",
       "19.0         3\n",
       "Name: Delq.Status_D90, dtype: int64"
      ]
     },
     "execution_count": 11,
     "metadata": {},
     "output_type": "execute_result"
    }
   ],
   "source": [
    "# Start to create a outcome variable in model\n",
    "Flag_90 = Data_P['Delq.Status_D90'].groupby(Data_P['LOAN_ID']).sum()\n",
    "Flag_90 = pd.DataFrame(Flag_90)\n",
    "Flag_90 = Flag_90.reset_index()\n",
    "Flag_90['Delq.Status_D90'].value_counts()"
   ]
  },
  {
   "cell_type": "code",
   "execution_count": 12,
   "metadata": {},
   "outputs": [],
   "source": [
    "Flag_90['Delq.Status_D90']= Flag_90.loc[:,'Delq.Status_D90'].replace([2,3,4,5,6,7,8,9,10,11,12,13,14,15,16,17,18,19,20], 1)"
   ]
  },
  {
   "cell_type": "code",
   "execution_count": 13,
   "metadata": {},
   "outputs": [
    {
     "data": {
      "text/plain": [
       "0.0    423359\n",
       "1.0      2847\n",
       "Name: Delq.Status_D90, dtype: int64"
      ]
     },
     "execution_count": 13,
     "metadata": {},
     "output_type": "execute_result"
    }
   ],
   "source": [
    "Flag_90['Delq.Status_D90'].value_counts()"
   ]
  },
  {
   "cell_type": "code",
   "execution_count": 14,
   "metadata": {},
   "outputs": [],
   "source": [
    "df = pd.merge(Data_A, Flag_90, on = 'LOAN_ID')"
   ]
  },
  {
   "cell_type": "code",
   "execution_count": 15,
   "metadata": {
    "collapsed": true
   },
   "outputs": [
    {
     "data": {
      "text/plain": [
       "LOAN_ID                 0\n",
       "ORIG_CHN                0\n",
       "Seller.Name             0\n",
       "ORIG_RT                 0\n",
       "ORIG_AMT                0\n",
       "ORIG_TRM                0\n",
       "ORIG_DTE                0\n",
       "FRST_DTE                0\n",
       "OLTV                    0\n",
       "OCLTV                   1\n",
       "NUM_BO                  0\n",
       "DTI                   111\n",
       "CSCORE_B              336\n",
       "FTHB_FLG                0\n",
       "PURPOSE                 0\n",
       "PROP_TYP                0\n",
       "NUM_UNIT                0\n",
       "OCC_STAT                0\n",
       "STATE                   0\n",
       "ZIP_3                   0\n",
       "MI_PCT             312106\n",
       "Product.Type            0\n",
       "CSCORE_C           235423\n",
       "MI_TYPE            312106\n",
       "RELOCATION_FLG          0\n",
       "Delq.Status_D90         0\n",
       "dtype: int64"
      ]
     },
     "execution_count": 15,
     "metadata": {},
     "output_type": "execute_result"
    }
   ],
   "source": [
    "# Count missing values by column \n",
    "df.isnull().sum()"
   ]
  },
  {
   "cell_type": "code",
   "execution_count": 16,
   "metadata": {},
   "outputs": [],
   "source": [
    "df['Credit_Score']=df[['CSCORE_B','CSCORE_C']].min(axis=1)"
   ]
  },
  {
   "cell_type": "code",
   "execution_count": 17,
   "metadata": {},
   "outputs": [],
   "source": [
    "df['DTI']=df['DTI'].fillna(df['DTI'].median())"
   ]
  },
  {
   "cell_type": "code",
   "execution_count": 18,
   "metadata": {},
   "outputs": [],
   "source": [
    "df['Credit_Score']=df['Credit_Score'].fillna(df['Credit_Score'].median())"
   ]
  },
  {
   "cell_type": "code",
   "execution_count": 19,
   "metadata": {
    "collapsed": true
   },
   "outputs": [
    {
     "data": {
      "text/plain": [
       "Index(['LOAN_ID', 'ORIG_CHN', 'Seller.Name', 'ORIG_RT', 'ORIG_AMT', 'ORIG_TRM',\n",
       "       'ORIG_DTE', 'FRST_DTE', 'OLTV', 'OCLTV', 'NUM_BO', 'DTI', 'CSCORE_B',\n",
       "       'FTHB_FLG', 'PURPOSE', 'PROP_TYP', 'NUM_UNIT', 'OCC_STAT', 'STATE',\n",
       "       'ZIP_3', 'MI_PCT', 'Product.Type', 'CSCORE_C', 'MI_TYPE',\n",
       "       'RELOCATION_FLG', 'Delq.Status_D90', 'Credit_Score'],\n",
       "      dtype='object')"
      ]
     },
     "execution_count": 19,
     "metadata": {},
     "output_type": "execute_result"
    }
   ],
   "source": [
    "df.columns"
   ]
  },
  {
   "cell_type": "code",
   "execution_count": 21,
   "metadata": {},
   "outputs": [],
   "source": [
    "# Explore Data \n",
    "## Numeric Variables\n",
    "continous_cols = ['ORIG_RT', 'ORIG_AMT','OLTV','Credit_Score','NUM_UNIT']\n",
    "X= df[continous_cols]\n",
    "y= df['Delq.Status_D90']"
   ]
  },
  {
   "cell_type": "code",
   "execution_count": 23,
   "metadata": {},
   "outputs": [],
   "source": [
    "#Logistic Regression model using sklearn\n",
    "import matplotlib.pyplot as plt\n",
    "import numpy as np\n",
    "from sklearn.datasets import load_digits\n",
    "from sklearn.linear_model import LogisticRegression\n",
    "from sklearn.metrics import classification_report, confusion_matrix\n",
    "from sklearn.model_selection import train_test_split\n",
    "from sklearn.preprocessing import StandardScaler\n",
    "\n",
    "X_train, X_test, y_train, y_test = train_test_split(X, y, test_size=0.2, random_state = 0, stratify=y)"
   ]
  },
  {
   "cell_type": "code",
   "execution_count": 96,
   "metadata": {},
   "outputs": [
    {
     "data": {
      "text/plain": [
       "LogisticRegression(C=1.0, class_weight=None, dual=False, fit_intercept=True,\n",
       "                   intercept_scaling=1, l1_ratio=None, max_iter=100,\n",
       "                   multi_class='auto', n_jobs=None, penalty='l2',\n",
       "                   random_state=None, solver='lbfgs', tol=0.0001, verbose=0,\n",
       "                   warm_start=False)"
      ]
     },
     "execution_count": 96,
     "metadata": {},
     "output_type": "execute_result"
    }
   ],
   "source": [
    "lr = LogisticRegression()\n",
    "lr.fit(X_train, y_train)"
   ]
  },
  {
   "cell_type": "code",
   "execution_count": 130,
   "metadata": {},
   "outputs": [
    {
     "data": {
      "text/plain": [
       "array([[0.99698477, 0.00301523],\n",
       "       [0.99287685, 0.00712315],\n",
       "       [0.99578826, 0.00421174],\n",
       "       ...,\n",
       "       [0.99594375, 0.00405625],\n",
       "       [0.99661469, 0.00338531],\n",
       "       [0.99392568, 0.00607432]])"
      ]
     },
     "execution_count": 130,
     "metadata": {},
     "output_type": "execute_result"
    }
   ],
   "source": [
    "lr.predict_proba(X_test)"
   ]
  },
  {
   "cell_type": "code",
   "execution_count": 131,
   "metadata": {},
   "outputs": [],
   "source": [
    "# Make prediction on the training data\n",
    "y_train_pred = lr.predict(X_train)\n",
    "y_train_proba = lr.predict_proba(X_train)[:,1]"
   ]
  },
  {
   "cell_type": "code",
   "execution_count": 132,
   "metadata": {},
   "outputs": [
    {
     "data": {
      "text/plain": [
       "array([0.99955403, 0.99656335, 0.99724652, ..., 0.96978676, 0.99312503,\n",
       "       0.9935556 ])"
      ]
     },
     "execution_count": 132,
     "metadata": {},
     "output_type": "execute_result"
    }
   ],
   "source": [
    "# get the probability of Delinquency=='0'\n",
    "lr.predict_proba(X_train)[:,0]"
   ]
  },
  {
   "cell_type": "code",
   "execution_count": 133,
   "metadata": {},
   "outputs": [
    {
     "data": {
      "text/plain": [
       "array([0.00044597, 0.00343665, 0.00275348, ..., 0.03021324, 0.00687497,\n",
       "       0.0064444 ])"
      ]
     },
     "execution_count": 133,
     "metadata": {},
     "output_type": "execute_result"
    }
   ],
   "source": [
    "# get the probability of Delinquency=='1'\n",
    "lr.predict_proba(X_train)[:,1]"
   ]
  },
  {
   "cell_type": "code",
   "execution_count": 134,
   "metadata": {},
   "outputs": [
    {
     "data": {
      "text/html": [
       "<div>\n",
       "<style scoped>\n",
       "    .dataframe tbody tr th:only-of-type {\n",
       "        vertical-align: middle;\n",
       "    }\n",
       "\n",
       "    .dataframe tbody tr th {\n",
       "        vertical-align: top;\n",
       "    }\n",
       "\n",
       "    .dataframe thead th {\n",
       "        text-align: right;\n",
       "    }\n",
       "</style>\n",
       "<table border=\"1\" class=\"dataframe\">\n",
       "  <thead>\n",
       "    <tr style=\"text-align: right;\">\n",
       "      <th></th>\n",
       "      <th>0</th>\n",
       "    </tr>\n",
       "  </thead>\n",
       "  <tbody>\n",
       "    <tr>\n",
       "      <th>0</th>\n",
       "      <td>0.000446</td>\n",
       "    </tr>\n",
       "    <tr>\n",
       "      <th>1</th>\n",
       "      <td>0.003437</td>\n",
       "    </tr>\n",
       "    <tr>\n",
       "      <th>2</th>\n",
       "      <td>0.002753</td>\n",
       "    </tr>\n",
       "    <tr>\n",
       "      <th>3</th>\n",
       "      <td>0.016420</td>\n",
       "    </tr>\n",
       "    <tr>\n",
       "      <th>4</th>\n",
       "      <td>0.002611</td>\n",
       "    </tr>\n",
       "    <tr>\n",
       "      <th>...</th>\n",
       "      <td>...</td>\n",
       "    </tr>\n",
       "    <tr>\n",
       "      <th>340959</th>\n",
       "      <td>0.002252</td>\n",
       "    </tr>\n",
       "    <tr>\n",
       "      <th>340960</th>\n",
       "      <td>0.002063</td>\n",
       "    </tr>\n",
       "    <tr>\n",
       "      <th>340961</th>\n",
       "      <td>0.030213</td>\n",
       "    </tr>\n",
       "    <tr>\n",
       "      <th>340962</th>\n",
       "      <td>0.006875</td>\n",
       "    </tr>\n",
       "    <tr>\n",
       "      <th>340963</th>\n",
       "      <td>0.006444</td>\n",
       "    </tr>\n",
       "  </tbody>\n",
       "</table>\n",
       "<p>340964 rows × 1 columns</p>\n",
       "</div>"
      ],
      "text/plain": [
       "               0\n",
       "0       0.000446\n",
       "1       0.003437\n",
       "2       0.002753\n",
       "3       0.016420\n",
       "4       0.002611\n",
       "...          ...\n",
       "340959  0.002252\n",
       "340960  0.002063\n",
       "340961  0.030213\n",
       "340962  0.006875\n",
       "340963  0.006444\n",
       "\n",
       "[340964 rows x 1 columns]"
      ]
     },
     "execution_count": 134,
     "metadata": {},
     "output_type": "execute_result"
    }
   ],
   "source": [
    "D90_Proba= pd.DataFrame(lr.predict_proba(X_train)[:,1])\n",
    "D90_Proba"
   ]
  },
  {
   "cell_type": "code",
   "execution_count": 100,
   "metadata": {},
   "outputs": [],
   "source": [
    "# Make predictions on test data\n",
    "y_test_pred = lr.predict(X_test)\n",
    "y_test_proba = lr.predict_proba(X_test)[:,1]"
   ]
  },
  {
   "cell_type": "code",
   "execution_count": 101,
   "metadata": {},
   "outputs": [
    {
     "data": {
      "text/plain": [
       "array([0.00301523, 0.00712315, 0.00421174, ..., 0.00405625, 0.00338531,\n",
       "       0.00607432])"
      ]
     },
     "execution_count": 101,
     "metadata": {},
     "output_type": "execute_result"
    }
   ],
   "source": [
    "lr.predict_proba(X_test)[:,1]"
   ]
  },
  {
   "cell_type": "code",
   "execution_count": 102,
   "metadata": {},
   "outputs": [
    {
     "data": {
      "text/html": [
       "<div>\n",
       "<style scoped>\n",
       "    .dataframe tbody tr th:only-of-type {\n",
       "        vertical-align: middle;\n",
       "    }\n",
       "\n",
       "    .dataframe tbody tr th {\n",
       "        vertical-align: top;\n",
       "    }\n",
       "\n",
       "    .dataframe thead th {\n",
       "        text-align: right;\n",
       "    }\n",
       "</style>\n",
       "<table border=\"1\" class=\"dataframe\">\n",
       "  <thead>\n",
       "    <tr style=\"text-align: right;\">\n",
       "      <th></th>\n",
       "      <th>0</th>\n",
       "      <th>0</th>\n",
       "    </tr>\n",
       "  </thead>\n",
       "  <tbody>\n",
       "    <tr>\n",
       "      <th>0</th>\n",
       "      <td>ORIG_RT</td>\n",
       "      <td>1.998193e-03</td>\n",
       "    </tr>\n",
       "    <tr>\n",
       "      <th>1</th>\n",
       "      <td>ORIG_AMT</td>\n",
       "      <td>-7.256898e-07</td>\n",
       "    </tr>\n",
       "    <tr>\n",
       "      <th>2</th>\n",
       "      <td>OLTV</td>\n",
       "      <td>4.000228e-02</td>\n",
       "    </tr>\n",
       "    <tr>\n",
       "      <th>3</th>\n",
       "      <td>Credit_Score</td>\n",
       "      <td>-1.102811e-02</td>\n",
       "    </tr>\n",
       "    <tr>\n",
       "      <th>4</th>\n",
       "      <td>NUM_UNIT</td>\n",
       "      <td>1.353736e-04</td>\n",
       "    </tr>\n",
       "  </tbody>\n",
       "</table>\n",
       "</div>"
      ],
      "text/plain": [
       "              0             0\n",
       "0       ORIG_RT  1.998193e-03\n",
       "1      ORIG_AMT -7.256898e-07\n",
       "2          OLTV  4.000228e-02\n",
       "3  Credit_Score -1.102811e-02\n",
       "4      NUM_UNIT  1.353736e-04"
      ]
     },
     "execution_count": 102,
     "metadata": {},
     "output_type": "execute_result"
    }
   ],
   "source": [
    "#Understanding the Estimated Coefficients\n",
    "coefficients = pd.concat([pd.DataFrame(X.columns),pd.DataFrame(np.transpose(lr.coef_))], axis = 1)\n",
    "coefficients"
   ]
  },
  {
   "cell_type": "code",
   "execution_count": 103,
   "metadata": {},
   "outputs": [
    {
     "data": {
      "text/plain": [
       "array([0.00018841])"
      ]
     },
     "execution_count": 103,
     "metadata": {},
     "output_type": "execute_result"
    }
   ],
   "source": [
    "lr.intercept_"
   ]
  },
  {
   "cell_type": "code",
   "execution_count": 104,
   "metadata": {},
   "outputs": [],
   "source": [
    "# Import metrics functions from sklearn\n",
    "from sklearn.metrics import precision_score, accuracy_score, recall_score, f1_score, roc_auc_score"
   ]
  },
  {
   "cell_type": "code",
   "execution_count": 105,
   "metadata": {},
   "outputs": [],
   "source": [
    "import pandas as pd\n",
    "# Helper method to print metric scores    \n",
    "def get_performance_metrics(y_train, y_train_proba, y_test, y_test_proba, threshold=0.5):\n",
    "    metric_names = ['AUC','Accuracy','Precision','Recall','f1-score']\n",
    "    metric_values_train = [roc_auc_score(y_train, y_train_proba),\n",
    "                    accuracy_score(y_train, y_train_proba>threshold),\n",
    "                    precision_score(y_train, y_train_proba>threshold),\n",
    "                    recall_score(y_train, y_train_proba>threshold),\n",
    "                    f1_score(y_train, y_train_proba>threshold)\n",
    "                   ]\n",
    "    metric_values_test = [roc_auc_score(y_test, y_test_proba),\n",
    "                    accuracy_score(y_test, y_test_proba>threshold),\n",
    "                    precision_score(y_test, y_test_proba>threshold),\n",
    "                    recall_score(y_test, y_test_proba>threshold),\n",
    "                    f1_score(y_test, y_test_proba>threshold)\n",
    "                   ]\n",
    "    all_metrics = pd.DataFrame({'metrics':metric_names,\n",
    "                                'train':metric_values_train,\n",
    "                                'test':metric_values_test},columns=['metrics','train','test']).set_index('metrics')\n",
    "    print(all_metrics)"
   ]
  },
  {
   "cell_type": "code",
   "execution_count": 106,
   "metadata": {},
   "outputs": [],
   "source": [
    "%matplotlib inline\n",
    "import matplotlib.pyplot as plt\n",
    "from sklearn.metrics import roc_curve, auc\n",
    "\n",
    "def plot_roc_curve(y_train, y_train_proba, y_test, p_test_pred):\n",
    "    roc_auc_train = roc_auc_score(y_train, y_train_proba)\n",
    "    fpr_train, tpr_train, _ = roc_curve(y_train, y_train_proba)\n",
    "\n",
    "    roc_auc_test = roc_auc_score(y_test, y_test_proba)\n",
    "    fpr_test, tpr_test, _ = roc_curve(y_test, y_test_proba)\n",
    "    plt.figure()\n",
    "    lw = 2\n",
    "    plt.plot(fpr_train, tpr_train, color='green',\n",
    "             lw=lw, label='ROC Train (AUC = %0.4f)' % roc_auc_train)\n",
    "    plt.plot(fpr_test, tpr_test, color='darkorange',\n",
    "             lw=lw, label='ROC Test (AUC = %0.4f)' % roc_auc_test)\n",
    "    plt.plot([0, 1], [0, 1], color='navy', lw=lw, linestyle='--')\n",
    "    plt.xlim([0.0, 1.0])\n",
    "    plt.ylim([0.0, 1.05])\n",
    "    plt.xlabel('False Positive Rate')\n",
    "    plt.ylabel('True Positive Rate')\n",
    "    plt.title('Receiver operating characteristic example')\n",
    "    plt.legend(loc=\"lower right\")\n",
    "    plt.show()"
   ]
  },
  {
   "cell_type": "code",
   "execution_count": 107,
   "metadata": {},
   "outputs": [
    {
     "name": "stderr",
     "output_type": "stream",
     "text": [
      "C:\\Users\\rhoda\\Anaconda3\\lib\\site-packages\\sklearn\\metrics\\_classification.py:1272: UndefinedMetricWarning: Precision is ill-defined and being set to 0.0 due to no predicted samples. Use `zero_division` parameter to control this behavior.\n",
      "  _warn_prf(average, modifier, msg_start, len(result))\n",
      "C:\\Users\\rhoda\\Anaconda3\\lib\\site-packages\\sklearn\\metrics\\_classification.py:1272: UndefinedMetricWarning: Precision is ill-defined and being set to 0.0 due to no predicted samples. Use `zero_division` parameter to control this behavior.\n",
      "  _warn_prf(average, modifier, msg_start, len(result))\n"
     ]
    },
    {
     "name": "stdout",
     "output_type": "stream",
     "text": [
      "              train      test\n",
      "metrics                      \n",
      "AUC        0.766494  0.765555\n",
      "Accuracy   0.993319  0.993325\n",
      "Precision  0.000000  0.000000\n",
      "Recall     0.000000  0.000000\n",
      "f1-score   0.000000  0.000000\n"
     ]
    },
    {
     "data": {
      "image/png": "[encoded data removed]",
      "text/plain": [
       "<Figure size 432x288 with 1 Axes>"
      ]
     },
     "metadata": {
      "needs_background": "light"
     },
     "output_type": "display_data"
    }
   ],
   "source": [
    "# print model results\n",
    "get_performance_metrics(y_train, y_train_proba, y_test, y_test_proba)\n",
    "plot_roc_curve(y_train, y_train_proba, y_test, y_test_proba)"
   ]
  },
  {
   "cell_type": "code",
   "execution_count": 95,
   "metadata": {},
   "outputs": [
    {
     "data": {
      "text/plain": [
       "Text(0.5, 257.44, 'Predicted label')"
      ]
     },
     "execution_count": 95,
     "metadata": {},
     "output_type": "execute_result"
    },
    {
     "data": {
      "image/png": "[encoded data removed]",
      "text/plain": [
       "<Figure size 432x288 with 2 Axes>"
      ]
     },
     "metadata": {
      "needs_background": "light"
     },
     "output_type": "display_data"
    }
   ],
   "source": [
    "# Make prediction on the training data\n",
    "y_train_pred = lr.predict(X_train)\n",
    "y_train_proba= lr.predict_proba(X_train)\n",
    "\n",
    "# Make predictions on test data\n",
    "y_test_pred = lr.predict(X_test)\n",
    "y_test_proba = lr.predict_proba(X_test)\n",
    "\n",
    "from sklearn import metrics\n",
    "cnf_matrix = metrics.confusion_matrix(y_train, y_train_pred)\n",
    "cnf_matrix\n",
    "\n",
    "# import required modules\n",
    "import numpy as np\n",
    "import matplotlib.pyplot as plt\n",
    "import seaborn as sns\n",
    "%matplotlib inline\n",
    "\n",
    "class_names=[0,1] # name  of classes\n",
    "fig, ax = plt.subplots()\n",
    "tick_marks = np.arange(len(class_names))\n",
    "plt.xticks(tick_marks, class_names)\n",
    "plt.yticks(tick_marks, class_names)\n",
    "# create heatmap\n",
    "sns.heatmap(pd.DataFrame(cnf_matrix), annot=True, cmap=\"YlGnBu\" ,fmt='g')\n",
    "ax.xaxis.set_label_position(\"top\")\n",
    "plt.tight_layout()\n",
    "plt.title('Confusion matrix', y=1.1)\n",
    "plt.ylabel('Actual label')\n",
    "plt.xlabel('Predicted label')"
   ]
  },
  {
   "cell_type": "markdown",
   "metadata": {},
   "source": [
    "# # weighted Logistic Regression with Scikit_learn \n",
    "weights = {0:1.0, 1:100}\n",
    "lr_1 = LogisticRegression(solver='lbfgs', class_weight=weights)\n",
    "lr_1.fit(X_train, y_train)"
   ]
  },
  {
   "cell_type": "code",
   "execution_count": 145,
   "metadata": {},
   "outputs": [
    {
     "data": {
      "text/plain": [
       "LogisticRegression(C=1.0, class_weight={0: 1.0, 1: 300}, dual=False,\n",
       "                   fit_intercept=True, intercept_scaling=1, l1_ratio=None,\n",
       "                   max_iter=100, multi_class='auto', n_jobs=None, penalty='l2',\n",
       "                   random_state=None, solver='lbfgs', tol=0.0001, verbose=0,\n",
       "                   warm_start=False)"
      ]
     },
     "execution_count": 145,
     "metadata": {},
     "output_type": "execute_result"
    }
   ],
   "source": [
    "# weighted Logistic Regression with Scikit_learn\n",
    "weights = {0:1.0, 1:300} \n",
    "lr_1 = LogisticRegression(solver='lbfgs', class_weight=weights) \n",
    "lr_1.fit(X_train, y_train)"
   ]
  },
  {
   "cell_type": "code",
   "execution_count": 146,
   "metadata": {},
   "outputs": [],
   "source": [
    "# Make prediction on the training data\n",
    "y_train_pred_1 = lr_1.predict(X_train)\n",
    "y_train_proba_1 = lr_1.predict_proba(X_train)[:,1]\n",
    "# Make predictions on test data\n",
    "y_test_pred_1 = lr_1.predict(X_test)\n",
    "y_test_proba_1 = lr_1.predict_proba(X_test)[:,1]"
   ]
  },
  {
   "cell_type": "code",
   "execution_count": 147,
   "metadata": {},
   "outputs": [
    {
     "data": {
      "text/plain": [
       "array([0.19056223, 0.51660152, 0.58329322, ..., 0.83746189, 0.64779836,\n",
       "       0.66238909])"
      ]
     },
     "execution_count": 147,
     "metadata": {},
     "output_type": "execute_result"
    }
   ],
   "source": [
    "lr_1.predict_proba(X_train)[:,1]"
   ]
  },
  {
   "cell_type": "code",
   "execution_count": 148,
   "metadata": {},
   "outputs": [
    {
     "data": {
      "text/plain": [
       "array([0.53742253, 0.574654  , 0.68507447, ..., 0.61654483, 0.62449626,\n",
       "       0.66019264])"
      ]
     },
     "execution_count": 148,
     "metadata": {},
     "output_type": "execute_result"
    }
   ],
   "source": [
    "lr_1.predict_proba(X_test)[:,1]"
   ]
  },
  {
   "cell_type": "code",
   "execution_count": 149,
   "metadata": {},
   "outputs": [
    {
     "data": {
      "text/html": [
       "<div>\n",
       "<style scoped>\n",
       "    .dataframe tbody tr th:only-of-type {\n",
       "        vertical-align: middle;\n",
       "    }\n",
       "\n",
       "    .dataframe tbody tr th {\n",
       "        vertical-align: top;\n",
       "    }\n",
       "\n",
       "    .dataframe thead th {\n",
       "        text-align: right;\n",
       "    }\n",
       "</style>\n",
       "<table border=\"1\" class=\"dataframe\">\n",
       "  <thead>\n",
       "    <tr style=\"text-align: right;\">\n",
       "      <th></th>\n",
       "      <th>0</th>\n",
       "      <th>0</th>\n",
       "    </tr>\n",
       "  </thead>\n",
       "  <tbody>\n",
       "    <tr>\n",
       "      <th>0</th>\n",
       "      <td>ORIG_RT</td>\n",
       "      <td>2.298590e-03</td>\n",
       "    </tr>\n",
       "    <tr>\n",
       "      <th>1</th>\n",
       "      <td>ORIG_AMT</td>\n",
       "      <td>-8.931879e-07</td>\n",
       "    </tr>\n",
       "    <tr>\n",
       "      <th>2</th>\n",
       "      <td>OLTV</td>\n",
       "      <td>4.068328e-02</td>\n",
       "    </tr>\n",
       "    <tr>\n",
       "      <th>3</th>\n",
       "      <td>Credit_Score</td>\n",
       "      <td>-3.231961e-03</td>\n",
       "    </tr>\n",
       "    <tr>\n",
       "      <th>4</th>\n",
       "      <td>NUM_UNIT</td>\n",
       "      <td>2.058571e-04</td>\n",
       "    </tr>\n",
       "  </tbody>\n",
       "</table>\n",
       "</div>"
      ],
      "text/plain": [
       "              0             0\n",
       "0       ORIG_RT  2.298590e-03\n",
       "1      ORIG_AMT -8.931879e-07\n",
       "2          OLTV  4.068328e-02\n",
       "3  Credit_Score -3.231961e-03\n",
       "4      NUM_UNIT  2.058571e-04"
      ]
     },
     "execution_count": 149,
     "metadata": {},
     "output_type": "execute_result"
    }
   ],
   "source": [
    "#Understanding the Estimated Coefficients\n",
    "coefficients_1 = pd.concat([pd.DataFrame(X.columns),pd.DataFrame(np.transpose(lr_1.coef_))], axis = 1)\n",
    "coefficients_1"
   ]
  },
  {
   "cell_type": "code",
   "execution_count": 150,
   "metadata": {},
   "outputs": [
    {
     "data": {
      "text/plain": [
       "array([0.00025361])"
      ]
     },
     "execution_count": 150,
     "metadata": {},
     "output_type": "execute_result"
    }
   ],
   "source": [
    "lr_1.intercept_"
   ]
  },
  {
   "cell_type": "code",
   "execution_count": 156,
   "metadata": {},
   "outputs": [
    {
     "data": {
      "text/plain": [
       "[<matplotlib.lines.Line2D at 0x21f2086c5f8>]"
      ]
     },
     "execution_count": 156,
     "metadata": {},
     "output_type": "execute_result"
    },
    {
     "data": {
      "image/png": "[encoded data removed]",
      "text/plain": [
       "<Figure size 432x288 with 1 Axes>"
      ]
     },
     "metadata": {
      "needs_background": "light"
     },
     "output_type": "display_data"
    }
   ],
   "source": [
    "a=df.groupby(pd.qcut(df['ORIG_RT'],20,duplicates = 'drop'))[['ORIG_RT','Delq.Status_D90']].mean()\n",
    "plt.plot(a['ORIG_RT'],a['Delq.Status_D90'])"
   ]
  },
  {
   "cell_type": "code",
   "execution_count": 157,
   "metadata": {},
   "outputs": [
    {
     "data": {
      "text/plain": [
       "[<matplotlib.lines.Line2D at 0x21f208cef98>]"
      ]
     },
     "execution_count": 157,
     "metadata": {},
     "output_type": "execute_result"
    },
    {
     "data": {
      "image/png": "[encoded data removed]",
      "text/plain": [
       "<Figure size 432x288 with 1 Axes>"
      ]
     },
     "metadata": {
      "needs_background": "light"
     },
     "output_type": "display_data"
    }
   ],
   "source": [
    "b=df.groupby(pd.qcut(df['OLTV'],20,duplicates = 'drop'))[['OLTV','Delq.Status_D90']].mean()\n",
    "plt.plot(b['OLTV'],b['Delq.Status_D90'])"
   ]
  },
  {
   "cell_type": "code",
   "execution_count": 151,
   "metadata": {},
   "outputs": [
    {
     "data": {
      "text/plain": [
       "Text(0.5, 257.44, 'Predicted label')"
      ]
     },
     "execution_count": 151,
     "metadata": {},
     "output_type": "execute_result"
    },
    {
     "data": {
      "image/png": "[encoded data removed]",
      "text/plain": [
       "<Figure size 432x288 with 2 Axes>"
      ]
     },
     "metadata": {
      "needs_background": "light"
     },
     "output_type": "display_data"
    }
   ],
   "source": [
    "\n",
    "from sklearn import metrics\n",
    "cnf_matrix = metrics.confusion_matrix(y_train, y_train_pred_1)\n",
    "cnf_matrix\n",
    "\n",
    "# import required modules\n",
    "import numpy as np\n",
    "import matplotlib.pyplot as plt\n",
    "import seaborn as sns\n",
    "%matplotlib inline\n",
    "\n",
    "class_names=[0,1] # name  of classes\n",
    "fig, ax = plt.subplots()\n",
    "tick_marks = np.arange(len(class_names))\n",
    "plt.xticks(tick_marks, class_names)\n",
    "plt.yticks(tick_marks, class_names)\n",
    "# create heatmap\n",
    "sns.heatmap(pd.DataFrame(cnf_matrix), annot=True, cmap=\"YlGnBu\" ,fmt='g')\n",
    "ax.xaxis.set_label_position(\"top\")\n",
    "plt.tight_layout()\n",
    "plt.title('Confusion matrix', y=1.1)\n",
    "plt.ylabel('Actual label')\n",
    "plt.xlabel('Predicted label')"
   ]
  },
  {
   "cell_type": "code",
   "execution_count": 152,
   "metadata": {},
   "outputs": [],
   "source": [
    "import pandas as pd\n",
    "# Helper method to print metric scores    \n",
    "def get_performance_metrics(y_train, y_train_proba_1, y_test, y_test_proba_1, threshold=0.5):\n",
    "    metric_names = ['AUC','Accuracy','Precision','Recall','f1-score']\n",
    "    metric_values_train = [roc_auc_score(y_train, y_train_proba_1),\n",
    "                    accuracy_score(y_train, y_train_proba_1>threshold),\n",
    "                    precision_score(y_train, y_train_proba_1>threshold),\n",
    "                    recall_score(y_train, y_train_proba_1>threshold),\n",
    "                    f1_score(y_train, y_train_proba_1>threshold)\n",
    "                   ]\n",
    "    metric_values_test = [roc_auc_score(y_test, y_test_proba_1),\n",
    "                    accuracy_score(y_test, y_test_proba_1>threshold),\n",
    "                    precision_score(y_test, y_test_proba_1>threshold),\n",
    "                    recall_score(y_test, y_test_proba_1>threshold),\n",
    "                    f1_score(y_test, y_test_proba_1>threshold)\n",
    "                   ]\n",
    "    all_metrics = pd.DataFrame({'metrics':metric_names,\n",
    "                                'train':metric_values_train,\n",
    "                                'test':metric_values_test},columns=['metrics','train','test']).set_index('metrics')\n",
    "    print(all_metrics)\n",
    "    \n",
    "%matplotlib inline\n",
    "import matplotlib.pyplot as plt\n",
    "from sklearn.metrics import roc_curve, auc\n",
    "\n",
    "def plot_roc_curve(y_train, y_train_proba_1, y_test, p_test_pred_1):\n",
    "    roc_auc_train = roc_auc_score(y_train, y_train_proba_1)\n",
    "    fpr_train, tpr_train, _ = roc_curve(y_train, y_train_proba_1)\n",
    "\n",
    "    roc_auc_test = roc_auc_score(y_test, y_test_proba_1)\n",
    "    fpr_test, tpr_test, _ = roc_curve(y_test, y_test_proba_1)\n",
    "    plt.figure()\n",
    "    lw = 2\n",
    "    plt.plot(fpr_train, tpr_train, color='green',\n",
    "             lw=lw, label='ROC Train (AUC = %0.4f)' % roc_auc_train)\n",
    "    plt.plot(fpr_test, tpr_test, color='darkorange',\n",
    "             lw=lw, label='ROC Test (AUC = %0.4f)' % roc_auc_test)\n",
    "    plt.plot([0, 1], [0, 1], color='navy', lw=lw, linestyle='--')\n",
    "    plt.xlim([0.0, 1.0])\n",
    "    plt.ylim([0.0, 1.05])\n",
    "    plt.xlabel('False Positive Rate')\n",
    "    plt.ylabel('True Positive Rate')\n",
    "    plt.title('Receiver operating characteristic example')\n",
    "    plt.legend(loc=\"lower right\")\n",
    "    plt.show()"
   ]
  },
  {
   "cell_type": "code",
   "execution_count": 127,
   "metadata": {},
   "outputs": [
    {
     "name": "stdout",
     "output_type": "stream",
     "text": [
      "              train      test\n",
      "metrics                      \n",
      "AUC        0.692620  0.685753\n",
      "Accuracy   0.445971  0.447326\n",
      "Precision  0.009395  0.009258\n",
      "Recall     0.784460  0.771529\n",
      "f1-score   0.018568  0.018296\n"
     ]
    },
    {
     "data": {
      "image/png": "[encoded data removed]",
      "text/plain": [
       "<Figure size 432x288 with 1 Axes>"
      ]
     },
     "metadata": {
      "needs_background": "light"
     },
     "output_type": "display_data"
    }
   ],
   "source": [
    "# print model results\n",
    "get_performance_metrics(y_train, y_train_proba_1, y_test, y_test_proba_1)\n",
    "plot_roc_curve(y_train, y_train_proba_1, y_test, y_test_proba_1)"
   ]
  },
  {
   "cell_type": "code",
   "execution_count": 139,
   "metadata": {},
   "outputs": [],
   "source": [
    "## Logistic Regression in Python with SatsModels\n",
    "import numpy as np\n",
    "import statsmodels.api as sm"
   ]
  },
  {
   "cell_type": "code",
   "execution_count": 140,
   "metadata": {},
   "outputs": [],
   "source": [
    "x = X\n",
    "x = sm.add_constant(x)"
   ]
  },
  {
   "cell_type": "code",
   "execution_count": 141,
   "metadata": {},
   "outputs": [
    {
     "name": "stdout",
     "output_type": "stream",
     "text": [
      "Optimization terminated successfully.\n",
      "         Current function value: 0.035804\n",
      "         Iterations 10\n"
     ]
    }
   ],
   "source": [
    "model_1 = sm.Logit(y,x)\n",
    "result = model_1.fit(method = 'newton')"
   ]
  },
  {
   "cell_type": "code",
   "execution_count": 142,
   "metadata": {},
   "outputs": [
    {
     "data": {
      "text/plain": [
       "const           5.018797e+00\n",
       "ORIG_RT         5.351984e-01\n",
       "ORIG_AMT       -6.323208e-07\n",
       "OLTV            2.211718e-02\n",
       "Credit_Score   -1.926947e-02\n",
       "NUM_UNIT       -1.423085e-01\n",
       "dtype: float64"
      ]
     },
     "execution_count": 142,
     "metadata": {},
     "output_type": "execute_result"
    }
   ],
   "source": [
    "result.params"
   ]
  },
  {
   "cell_type": "code",
   "execution_count": 143,
   "metadata": {},
   "outputs": [
    {
     "data": {
      "text/html": [
       "<table class=\"simpletable\">\n",
       "<caption>Logit Regression Results</caption>\n",
       "<tr>\n",
       "  <th>Dep. Variable:</th>    <td>Delq.Status_D90</td> <th>  No. Observations:  </th>  <td>426206</td> \n",
       "</tr>\n",
       "<tr>\n",
       "  <th>Model:</th>                 <td>Logit</td>      <th>  Df Residuals:      </th>  <td>426200</td> \n",
       "</tr>\n",
       "<tr>\n",
       "  <th>Method:</th>                 <td>MLE</td>       <th>  Df Model:          </th>  <td>     5</td> \n",
       "</tr>\n",
       "<tr>\n",
       "  <th>Date:</th>            <td>Sun, 12 Jul 2020</td> <th>  Pseudo R-squ.:     </th>  <td>0.1075</td> \n",
       "</tr>\n",
       "<tr>\n",
       "  <th>Time:</th>                <td>21:36:43</td>     <th>  Log-Likelihood:    </th> <td> -15260.</td>\n",
       "</tr>\n",
       "<tr>\n",
       "  <th>converged:</th>             <td>True</td>       <th>  LL-Null:           </th> <td> -17097.</td>\n",
       "</tr>\n",
       "<tr>\n",
       "  <th>Covariance Type:</th>     <td>nonrobust</td>    <th>  LLR p-value:       </th>  <td> 0.000</td> \n",
       "</tr>\n",
       "</table>\n",
       "<table class=\"simpletable\">\n",
       "<tr>\n",
       "        <td></td>          <th>coef</th>     <th>std err</th>      <th>z</th>      <th>P>|z|</th>  <th>[0.025</th>    <th>0.975]</th>  \n",
       "</tr>\n",
       "<tr>\n",
       "  <th>const</th>        <td>    5.0188</td> <td>    0.415</td> <td>   12.079</td> <td> 0.000</td> <td>    4.204</td> <td>    5.833</td>\n",
       "</tr>\n",
       "<tr>\n",
       "  <th>ORIG_RT</th>      <td>    0.5352</td> <td>    0.041</td> <td>   13.100</td> <td> 0.000</td> <td>    0.455</td> <td>    0.615</td>\n",
       "</tr>\n",
       "<tr>\n",
       "  <th>ORIG_AMT</th>     <td>-6.323e-07</td> <td> 1.65e-07</td> <td>   -3.822</td> <td> 0.000</td> <td>-9.57e-07</td> <td>-3.08e-07</td>\n",
       "</tr>\n",
       "<tr>\n",
       "  <th>OLTV</th>         <td>    0.0221</td> <td>    0.001</td> <td>   15.942</td> <td> 0.000</td> <td>    0.019</td> <td>    0.025</td>\n",
       "</tr>\n",
       "<tr>\n",
       "  <th>Credit_Score</th> <td>   -0.0193</td> <td>    0.000</td> <td>  -43.133</td> <td> 0.000</td> <td>   -0.020</td> <td>   -0.018</td>\n",
       "</tr>\n",
       "<tr>\n",
       "  <th>NUM_UNIT</th>     <td>   -0.1423</td> <td>    0.103</td> <td>   -1.376</td> <td> 0.169</td> <td>   -0.345</td> <td>    0.060</td>\n",
       "</tr>\n",
       "</table>"
      ],
      "text/plain": [
       "<class 'statsmodels.iolib.summary.Summary'>\n",
       "\"\"\"\n",
       "                           Logit Regression Results                           \n",
       "==============================================================================\n",
       "Dep. Variable:        Delq.Status_D90   No. Observations:               426206\n",
       "Model:                          Logit   Df Residuals:                   426200\n",
       "Method:                           MLE   Df Model:                            5\n",
       "Date:                Sun, 12 Jul 2020   Pseudo R-squ.:                  0.1075\n",
       "Time:                        21:36:43   Log-Likelihood:                -15260.\n",
       "converged:                       True   LL-Null:                       -17097.\n",
       "Covariance Type:            nonrobust   LLR p-value:                     0.000\n",
       "================================================================================\n",
       "                   coef    std err          z      P>|z|      [0.025      0.975]\n",
       "--------------------------------------------------------------------------------\n",
       "const            5.0188      0.415     12.079      0.000       4.204       5.833\n",
       "ORIG_RT          0.5352      0.041     13.100      0.000       0.455       0.615\n",
       "ORIG_AMT     -6.323e-07   1.65e-07     -3.822      0.000   -9.57e-07   -3.08e-07\n",
       "OLTV             0.0221      0.001     15.942      0.000       0.019       0.025\n",
       "Credit_Score    -0.0193      0.000    -43.133      0.000      -0.020      -0.018\n",
       "NUM_UNIT        -0.1423      0.103     -1.376      0.169      -0.345       0.060\n",
       "================================================================================\n",
       "\"\"\""
      ]
     },
     "execution_count": 143,
     "metadata": {},
     "output_type": "execute_result"
    }
   ],
   "source": [
    "result.summary()"
   ]
  },
  {
   "cell_type": "code",
   "execution_count": 144,
   "metadata": {},
   "outputs": [
    {
     "data": {
      "text/html": [
       "<table class=\"simpletable\">\n",
       "<tr>\n",
       "        <td>Model:</td>              <td>Logit</td>      <td>Pseudo R-squared:</td>    <td>0.107</td>  \n",
       "</tr>\n",
       "<tr>\n",
       "  <td>Dependent Variable:</td>  <td>Delq.Status_D90</td>       <td>AIC:</td>        <td>30531.7367</td>\n",
       "</tr>\n",
       "<tr>\n",
       "         <td>Date:</td>        <td>2020-07-12 21:37</td>       <td>BIC:</td>        <td>30597.5128</td>\n",
       "</tr>\n",
       "<tr>\n",
       "   <td>No. Observations:</td>       <td>426206</td>       <td>Log-Likelihood:</td>    <td>-15260.</td> \n",
       "</tr>\n",
       "<tr>\n",
       "       <td>Df Model:</td>              <td>5</td>            <td>LL-Null:</td>        <td>-17097.</td> \n",
       "</tr>\n",
       "<tr>\n",
       "     <td>Df Residuals:</td>         <td>426200</td>        <td>LLR p-value:</td>      <td>0.0000</td>  \n",
       "</tr>\n",
       "<tr>\n",
       "      <td>Converged:</td>           <td>1.0000</td>           <td>Scale:</td>         <td>1.0000</td>  \n",
       "</tr>\n",
       "<tr>\n",
       "    <td>No. Iterations:</td>        <td>10.0000</td>             <td></td>               <td></td>     \n",
       "</tr>\n",
       "</table>\n",
       "<table class=\"simpletable\">\n",
       "<tr>\n",
       "        <td></td>        <th>Coef.</th>  <th>Std.Err.</th>     <th>z</th>     <th>P>|z|</th> <th>[0.025</th>  <th>0.975]</th> \n",
       "</tr>\n",
       "<tr>\n",
       "  <th>const</th>        <td>5.0188</td>   <td>0.4155</td>   <td>12.0793</td> <td>0.0000</td> <td>4.2045</td>  <td>5.8331</td> \n",
       "</tr>\n",
       "<tr>\n",
       "  <th>ORIG_RT</th>      <td>0.5352</td>   <td>0.0409</td>   <td>13.1001</td> <td>0.0000</td> <td>0.4551</td>  <td>0.6153</td> \n",
       "</tr>\n",
       "<tr>\n",
       "  <th>ORIG_AMT</th>     <td>-0.0000</td>  <td>0.0000</td>   <td>-3.8217</td> <td>0.0001</td> <td>-0.0000</td> <td>-0.0000</td>\n",
       "</tr>\n",
       "<tr>\n",
       "  <th>OLTV</th>         <td>0.0221</td>   <td>0.0014</td>   <td>15.9420</td> <td>0.0000</td> <td>0.0194</td>  <td>0.0248</td> \n",
       "</tr>\n",
       "<tr>\n",
       "  <th>Credit_Score</th> <td>-0.0193</td>  <td>0.0004</td>  <td>-43.1334</td> <td>0.0000</td> <td>-0.0201</td> <td>-0.0184</td>\n",
       "</tr>\n",
       "<tr>\n",
       "  <th>NUM_UNIT</th>     <td>-0.1423</td>  <td>0.1035</td>   <td>-1.3756</td> <td>0.1690</td> <td>-0.3451</td> <td>0.0605</td> \n",
       "</tr>\n",
       "</table>"
      ],
      "text/plain": [
       "<class 'statsmodels.iolib.summary2.Summary'>\n",
       "\"\"\"\n",
       "                         Results: Logit\n",
       "=================================================================\n",
       "Model:              Logit            Pseudo R-squared: 0.107     \n",
       "Dependent Variable: Delq.Status_D90  AIC:              30531.7367\n",
       "Date:               2020-07-12 21:37 BIC:              30597.5128\n",
       "No. Observations:   426206           Log-Likelihood:   -15260.   \n",
       "Df Model:           5                LL-Null:          -17097.   \n",
       "Df Residuals:       426200           LLR p-value:      0.0000    \n",
       "Converged:          1.0000           Scale:            1.0000    \n",
       "No. Iterations:     10.0000                                      \n",
       "-----------------------------------------------------------------\n",
       "                  Coef.  Std.Err.    z     P>|z|   [0.025  0.975]\n",
       "-----------------------------------------------------------------\n",
       "const             5.0188   0.4155  12.0793 0.0000  4.2045  5.8331\n",
       "ORIG_RT           0.5352   0.0409  13.1001 0.0000  0.4551  0.6153\n",
       "ORIG_AMT         -0.0000   0.0000  -3.8217 0.0001 -0.0000 -0.0000\n",
       "OLTV              0.0221   0.0014  15.9420 0.0000  0.0194  0.0248\n",
       "Credit_Score     -0.0193   0.0004 -43.1334 0.0000 -0.0201 -0.0184\n",
       "NUM_UNIT         -0.1423   0.1035  -1.3756 0.1690 -0.3451  0.0605\n",
       "=================================================================\n",
       "\n",
       "\"\"\""
      ]
     },
     "execution_count": 144,
     "metadata": {},
     "output_type": "execute_result"
    }
   ],
   "source": [
    "result.summary2()"
   ]
  },
  {
   "cell_type": "code",
   "execution_count": 154,
   "metadata": {},
   "outputs": [
    {
     "name": "stdout",
     "output_type": "stream",
     "text": [
      "Best: 0.988943 using {'class_weight': {0: 1, 1: 100}}\n",
      "0.988943 (0.006354) with: {'class_weight': {0: 1, 1: 100}}\n",
      "0.988360 (0.006071) with: {'class_weight': {0: 1, 1: 150}}\n",
      "0.987875 (0.005940) with: {'class_weight': {0: 1, 1: 200}}\n",
      "0.987569 (0.005793) with: {'class_weight': {0: 1, 1: 250}}\n",
      "0.987259 (0.005740) with: {'class_weight': {0: 1, 1: 300}}\n"
     ]
    }
   ],
   "source": [
    "from numpy import mean\n",
    "from sklearn.datasets import make_classification\n",
    "from sklearn.model_selection import GridSearchCV\n",
    "from sklearn.model_selection import RepeatedStratifiedKFold\n",
    "from sklearn.linear_model import LogisticRegression\n",
    "# generate dataset\n",
    "X, y = make_classification(n_samples=10000, n_features=2, n_redundant=0,\n",
    "                           n_clusters_per_class=1, weights=[0.99], flip_y=0, random_state=2)\n",
    "# define model\n",
    "model = LogisticRegression(solver='lbfgs')\n",
    "# define grid\n",
    "balance = [{0:1,1:100}, {0:1,1:150}, {0:1,1:200}, {0:1,1:250}, {0:1,1:300}]\n",
    "param_grid = dict(class_weight=balance)\n",
    "# define evaluation procedure\n",
    "cv = RepeatedStratifiedKFold(n_splits=10, n_repeats=3, random_state=1)\n",
    "# define grid search\n",
    "grid = GridSearchCV(estimator=model, param_grid=param_grid, n_jobs=-1, cv=cv, scoring='roc_auc')\n",
    "# execute the grid search\n",
    "grid_result = grid.fit(X, y)\n",
    "# report the best configuration\n",
    "print(\"Best: %f using %s\" % (grid_result.best_score_, grid_result.best_params_))\n",
    "# report all configurations\n",
    "means = grid_result.cv_results_['mean_test_score']\n",
    "stds = grid_result.cv_results_['std_test_score']\n",
    "params = grid_result.cv_results_['params']\n",
    "for mean, stdev, param in zip(means, stds, params):\n",
    "    print(\"%f (%f) with: %r\" % (mean, stdev, param))"
   ]
  },
  {
   "cell_type": "code",
   "execution_count": null,
   "metadata": {},
   "outputs": [],
   "source": []
  }
 ],
 "metadata": {
  "kernelspec": {
   "display_name": "Python 3",
   "language": "python",
   "name": "python3"
  },
  "language_info": {
   "codemirror_mode": {
    "name": "ipython",
    "version": 3
   },
   "file_extension": ".py",
   "mimetype": "text/x-python",
   "name": "python",
   "nbconvert_exporter": "python",
   "pygments_lexer": "ipython3",
   "version": "3.7.3"
  }
 },
 "nbformat": 4,
 "nbformat_minor": 4
}
